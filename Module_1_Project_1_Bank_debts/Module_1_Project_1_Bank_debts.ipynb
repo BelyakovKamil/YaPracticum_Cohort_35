{
 "cells": [
  {
   "cell_type": "markdown",
   "id": "a9db02ae",
   "metadata": {
    "deletable": false,
    "editable": false,
    "id": "c81daeeb"
   },
   "source": [
    "# Исследование надежности заемщиков\n"
   ]
  },
  {
   "cell_type": "markdown",
   "id": "65aaa98b",
   "metadata": {},
   "source": [
    "**Описание проекта**\n",
    "\n",
    "Заказчик — кредитный отдел банка. Нужно разобраться, влияет ли семейное положение и количество детей клиента на факт погашения кредита в срок. Входные данные от банка — статистика о платёжеспособности клиентов.\n",
    "Результаты исследования будут учтены при построении модели кредитного скоринга — специальной системы, которая оценивает способность потенциального заёмщика вернуть кредит банку."
   ]
  },
  {
   "cell_type": "markdown",
   "id": "a7be480c",
   "metadata": {},
   "source": [
    "**Данные**\n",
    "- children — количество детей в семье\n",
    "- days_employed — общий трудовой стаж в днях\n",
    "- dob_years — возраст клиента в годах\n",
    "- education — уровень образования клиента\n",
    "- education_id — идентификатор уровня образования\n",
    "- family_status — семейное положение\n",
    "- family_status_id — идентификатор семейного положения\n",
    "- gender — пол клиента\n",
    "- income_type — тип занятости\n",
    "- debt — имел ли задолженность по возврату кредитов\n",
    "- total_income — ежемесячный доход\n",
    "- purpose — цель получения кредита"
   ]
  },
  {
   "cell_type": "markdown",
   "id": "65a6f6c8",
   "metadata": {
    "deletable": false,
    "editable": false,
    "id": "827c20bf"
   },
   "source": [
    "Во второй части проекта вы выполните шаги 3 и 4. Их вручную проверит ревьюер.\n",
    "Чтобы вам не пришлось писать код заново для шагов 1 и 2, мы добавили авторские решения в ячейки с кодом. \n",
    "\n"
   ]
  },
  {
   "cell_type": "markdown",
   "id": "4429cc1a",
   "metadata": {
    "deletable": false,
    "editable": false,
    "id": "744d7639"
   },
   "source": [
    "## Откройте таблицу и изучите общую информацию о данных"
   ]
  },
  {
   "cell_type": "markdown",
   "id": "a09ea116",
   "metadata": {
    "deletable": false,
    "id": "e7a14c31"
   },
   "source": [
    "**Задание 1. Импортируйте библиотеку pandas. Считайте данные из csv-файла в датафрейм и сохраните в переменную `data`"
   ]
  },
  {
   "cell_type": "code",
   "execution_count": null,
   "id": "418b2b85",
   "metadata": {
    "deletable": false,
    "id": "7bcf75c9"
   },
   "outputs": [],
   "source": [
    "import pandas as pd\n",
    "\n",
    "data = pd.read_csv('dataset.csv')"
   ]
  },
  {
   "cell_type": "markdown",
   "id": "cd43aae5",
   "metadata": {
    "deletable": false,
    "editable": false,
    "id": "b8038fe3"
   },
   "source": [
    "**Задание 2. Выведите первые 20 строчек датафрейма `data` на экран.**"
   ]
  },
  {
   "cell_type": "code",
   "execution_count": 3,
   "id": "a0911ffe",
   "metadata": {
    "deletable": false,
    "id": "2a7cab99",
    "outputId": "1a8f3ef2-d323-4ec2-ddf7-89670b5944c4"
   },
   "outputs": [
    {
     "data": {
      "text/html": [
       "<div>\n",
       "<style scoped>\n",
       "    .dataframe tbody tr th:only-of-type {\n",
       "        vertical-align: middle;\n",
       "    }\n",
       "\n",
       "    .dataframe tbody tr th {\n",
       "        vertical-align: top;\n",
       "    }\n",
       "\n",
       "    .dataframe thead th {\n",
       "        text-align: right;\n",
       "    }\n",
       "</style>\n",
       "<table border=\"1\" class=\"dataframe\">\n",
       "  <thead>\n",
       "    <tr style=\"text-align: right;\">\n",
       "      <th></th>\n",
       "      <th>children</th>\n",
       "      <th>days_employed</th>\n",
       "      <th>dob_years</th>\n",
       "      <th>education</th>\n",
       "      <th>education_id</th>\n",
       "      <th>family_status</th>\n",
       "      <th>family_status_id</th>\n",
       "      <th>gender</th>\n",
       "      <th>income_type</th>\n",
       "      <th>debt</th>\n",
       "      <th>total_income</th>\n",
       "      <th>purpose</th>\n",
       "    </tr>\n",
       "  </thead>\n",
       "  <tbody>\n",
       "    <tr>\n",
       "      <th>0</th>\n",
       "      <td>1</td>\n",
       "      <td>-8437.673028</td>\n",
       "      <td>42</td>\n",
       "      <td>высшее</td>\n",
       "      <td>0</td>\n",
       "      <td>женат / замужем</td>\n",
       "      <td>0</td>\n",
       "      <td>F</td>\n",
       "      <td>сотрудник</td>\n",
       "      <td>0</td>\n",
       "      <td>253875.639453</td>\n",
       "      <td>покупка жилья</td>\n",
       "    </tr>\n",
       "    <tr>\n",
       "      <th>1</th>\n",
       "      <td>1</td>\n",
       "      <td>-4024.803754</td>\n",
       "      <td>36</td>\n",
       "      <td>среднее</td>\n",
       "      <td>1</td>\n",
       "      <td>женат / замужем</td>\n",
       "      <td>0</td>\n",
       "      <td>F</td>\n",
       "      <td>сотрудник</td>\n",
       "      <td>0</td>\n",
       "      <td>112080.014102</td>\n",
       "      <td>приобретение автомобиля</td>\n",
       "    </tr>\n",
       "    <tr>\n",
       "      <th>2</th>\n",
       "      <td>0</td>\n",
       "      <td>-5623.422610</td>\n",
       "      <td>33</td>\n",
       "      <td>Среднее</td>\n",
       "      <td>1</td>\n",
       "      <td>женат / замужем</td>\n",
       "      <td>0</td>\n",
       "      <td>M</td>\n",
       "      <td>сотрудник</td>\n",
       "      <td>0</td>\n",
       "      <td>145885.952297</td>\n",
       "      <td>покупка жилья</td>\n",
       "    </tr>\n",
       "    <tr>\n",
       "      <th>3</th>\n",
       "      <td>3</td>\n",
       "      <td>-4124.747207</td>\n",
       "      <td>32</td>\n",
       "      <td>среднее</td>\n",
       "      <td>1</td>\n",
       "      <td>женат / замужем</td>\n",
       "      <td>0</td>\n",
       "      <td>M</td>\n",
       "      <td>сотрудник</td>\n",
       "      <td>0</td>\n",
       "      <td>267628.550329</td>\n",
       "      <td>дополнительное образование</td>\n",
       "    </tr>\n",
       "    <tr>\n",
       "      <th>4</th>\n",
       "      <td>0</td>\n",
       "      <td>340266.072047</td>\n",
       "      <td>53</td>\n",
       "      <td>среднее</td>\n",
       "      <td>1</td>\n",
       "      <td>гражданский брак</td>\n",
       "      <td>1</td>\n",
       "      <td>F</td>\n",
       "      <td>пенсионер</td>\n",
       "      <td>0</td>\n",
       "      <td>158616.077870</td>\n",
       "      <td>сыграть свадьбу</td>\n",
       "    </tr>\n",
       "    <tr>\n",
       "      <th>5</th>\n",
       "      <td>0</td>\n",
       "      <td>-926.185831</td>\n",
       "      <td>27</td>\n",
       "      <td>высшее</td>\n",
       "      <td>0</td>\n",
       "      <td>гражданский брак</td>\n",
       "      <td>1</td>\n",
       "      <td>M</td>\n",
       "      <td>компаньон</td>\n",
       "      <td>0</td>\n",
       "      <td>255763.565419</td>\n",
       "      <td>покупка жилья</td>\n",
       "    </tr>\n",
       "    <tr>\n",
       "      <th>6</th>\n",
       "      <td>0</td>\n",
       "      <td>-2879.202052</td>\n",
       "      <td>43</td>\n",
       "      <td>высшее</td>\n",
       "      <td>0</td>\n",
       "      <td>женат / замужем</td>\n",
       "      <td>0</td>\n",
       "      <td>F</td>\n",
       "      <td>компаньон</td>\n",
       "      <td>0</td>\n",
       "      <td>240525.971920</td>\n",
       "      <td>операции с жильем</td>\n",
       "    </tr>\n",
       "    <tr>\n",
       "      <th>7</th>\n",
       "      <td>0</td>\n",
       "      <td>-152.779569</td>\n",
       "      <td>50</td>\n",
       "      <td>СРЕДНЕЕ</td>\n",
       "      <td>1</td>\n",
       "      <td>женат / замужем</td>\n",
       "      <td>0</td>\n",
       "      <td>M</td>\n",
       "      <td>сотрудник</td>\n",
       "      <td>0</td>\n",
       "      <td>135823.934197</td>\n",
       "      <td>образование</td>\n",
       "    </tr>\n",
       "    <tr>\n",
       "      <th>8</th>\n",
       "      <td>2</td>\n",
       "      <td>-6929.865299</td>\n",
       "      <td>35</td>\n",
       "      <td>ВЫСШЕЕ</td>\n",
       "      <td>0</td>\n",
       "      <td>гражданский брак</td>\n",
       "      <td>1</td>\n",
       "      <td>F</td>\n",
       "      <td>сотрудник</td>\n",
       "      <td>0</td>\n",
       "      <td>95856.832424</td>\n",
       "      <td>на проведение свадьбы</td>\n",
       "    </tr>\n",
       "    <tr>\n",
       "      <th>9</th>\n",
       "      <td>0</td>\n",
       "      <td>-2188.756445</td>\n",
       "      <td>41</td>\n",
       "      <td>среднее</td>\n",
       "      <td>1</td>\n",
       "      <td>женат / замужем</td>\n",
       "      <td>0</td>\n",
       "      <td>M</td>\n",
       "      <td>сотрудник</td>\n",
       "      <td>0</td>\n",
       "      <td>144425.938277</td>\n",
       "      <td>покупка жилья для семьи</td>\n",
       "    </tr>\n",
       "    <tr>\n",
       "      <th>10</th>\n",
       "      <td>2</td>\n",
       "      <td>-4171.483647</td>\n",
       "      <td>36</td>\n",
       "      <td>высшее</td>\n",
       "      <td>0</td>\n",
       "      <td>женат / замужем</td>\n",
       "      <td>0</td>\n",
       "      <td>M</td>\n",
       "      <td>компаньон</td>\n",
       "      <td>0</td>\n",
       "      <td>113943.491460</td>\n",
       "      <td>покупка недвижимости</td>\n",
       "    </tr>\n",
       "    <tr>\n",
       "      <th>11</th>\n",
       "      <td>0</td>\n",
       "      <td>-792.701887</td>\n",
       "      <td>40</td>\n",
       "      <td>среднее</td>\n",
       "      <td>1</td>\n",
       "      <td>женат / замужем</td>\n",
       "      <td>0</td>\n",
       "      <td>F</td>\n",
       "      <td>сотрудник</td>\n",
       "      <td>0</td>\n",
       "      <td>77069.234271</td>\n",
       "      <td>покупка коммерческой недвижимости</td>\n",
       "    </tr>\n",
       "    <tr>\n",
       "      <th>12</th>\n",
       "      <td>0</td>\n",
       "      <td>NaN</td>\n",
       "      <td>65</td>\n",
       "      <td>среднее</td>\n",
       "      <td>1</td>\n",
       "      <td>гражданский брак</td>\n",
       "      <td>1</td>\n",
       "      <td>M</td>\n",
       "      <td>пенсионер</td>\n",
       "      <td>0</td>\n",
       "      <td>NaN</td>\n",
       "      <td>сыграть свадьбу</td>\n",
       "    </tr>\n",
       "    <tr>\n",
       "      <th>13</th>\n",
       "      <td>0</td>\n",
       "      <td>-1846.641941</td>\n",
       "      <td>54</td>\n",
       "      <td>неоконченное высшее</td>\n",
       "      <td>2</td>\n",
       "      <td>женат / замужем</td>\n",
       "      <td>0</td>\n",
       "      <td>F</td>\n",
       "      <td>сотрудник</td>\n",
       "      <td>0</td>\n",
       "      <td>130458.228857</td>\n",
       "      <td>приобретение автомобиля</td>\n",
       "    </tr>\n",
       "    <tr>\n",
       "      <th>14</th>\n",
       "      <td>0</td>\n",
       "      <td>-1844.956182</td>\n",
       "      <td>56</td>\n",
       "      <td>высшее</td>\n",
       "      <td>0</td>\n",
       "      <td>гражданский брак</td>\n",
       "      <td>1</td>\n",
       "      <td>F</td>\n",
       "      <td>компаньон</td>\n",
       "      <td>1</td>\n",
       "      <td>165127.911772</td>\n",
       "      <td>покупка жилой недвижимости</td>\n",
       "    </tr>\n",
       "    <tr>\n",
       "      <th>15</th>\n",
       "      <td>1</td>\n",
       "      <td>-972.364419</td>\n",
       "      <td>26</td>\n",
       "      <td>среднее</td>\n",
       "      <td>1</td>\n",
       "      <td>женат / замужем</td>\n",
       "      <td>0</td>\n",
       "      <td>F</td>\n",
       "      <td>сотрудник</td>\n",
       "      <td>0</td>\n",
       "      <td>116820.904450</td>\n",
       "      <td>строительство собственной недвижимости</td>\n",
       "    </tr>\n",
       "    <tr>\n",
       "      <th>16</th>\n",
       "      <td>0</td>\n",
       "      <td>-1719.934226</td>\n",
       "      <td>35</td>\n",
       "      <td>среднее</td>\n",
       "      <td>1</td>\n",
       "      <td>женат / замужем</td>\n",
       "      <td>0</td>\n",
       "      <td>F</td>\n",
       "      <td>сотрудник</td>\n",
       "      <td>0</td>\n",
       "      <td>289202.704229</td>\n",
       "      <td>недвижимость</td>\n",
       "    </tr>\n",
       "    <tr>\n",
       "      <th>17</th>\n",
       "      <td>0</td>\n",
       "      <td>-2369.999720</td>\n",
       "      <td>33</td>\n",
       "      <td>высшее</td>\n",
       "      <td>0</td>\n",
       "      <td>гражданский брак</td>\n",
       "      <td>1</td>\n",
       "      <td>M</td>\n",
       "      <td>сотрудник</td>\n",
       "      <td>0</td>\n",
       "      <td>90410.586745</td>\n",
       "      <td>строительство недвижимости</td>\n",
       "    </tr>\n",
       "    <tr>\n",
       "      <th>18</th>\n",
       "      <td>0</td>\n",
       "      <td>400281.136913</td>\n",
       "      <td>53</td>\n",
       "      <td>среднее</td>\n",
       "      <td>1</td>\n",
       "      <td>вдовец / вдова</td>\n",
       "      <td>2</td>\n",
       "      <td>F</td>\n",
       "      <td>пенсионер</td>\n",
       "      <td>0</td>\n",
       "      <td>56823.777243</td>\n",
       "      <td>на покупку подержанного автомобиля</td>\n",
       "    </tr>\n",
       "    <tr>\n",
       "      <th>19</th>\n",
       "      <td>0</td>\n",
       "      <td>-10038.818549</td>\n",
       "      <td>48</td>\n",
       "      <td>СРЕДНЕЕ</td>\n",
       "      <td>1</td>\n",
       "      <td>в разводе</td>\n",
       "      <td>3</td>\n",
       "      <td>F</td>\n",
       "      <td>сотрудник</td>\n",
       "      <td>0</td>\n",
       "      <td>242831.107982</td>\n",
       "      <td>на покупку своего автомобиля</td>\n",
       "    </tr>\n",
       "  </tbody>\n",
       "</table>\n",
       "</div>"
      ],
      "text/plain": [
       "    children  days_employed  dob_years            education  education_id  \\\n",
       "0          1   -8437.673028         42               высшее             0   \n",
       "1          1   -4024.803754         36              среднее             1   \n",
       "2          0   -5623.422610         33              Среднее             1   \n",
       "3          3   -4124.747207         32              среднее             1   \n",
       "4          0  340266.072047         53              среднее             1   \n",
       "5          0    -926.185831         27               высшее             0   \n",
       "6          0   -2879.202052         43               высшее             0   \n",
       "7          0    -152.779569         50              СРЕДНЕЕ             1   \n",
       "8          2   -6929.865299         35               ВЫСШЕЕ             0   \n",
       "9          0   -2188.756445         41              среднее             1   \n",
       "10         2   -4171.483647         36               высшее             0   \n",
       "11         0    -792.701887         40              среднее             1   \n",
       "12         0            NaN         65              среднее             1   \n",
       "13         0   -1846.641941         54  неоконченное высшее             2   \n",
       "14         0   -1844.956182         56               высшее             0   \n",
       "15         1    -972.364419         26              среднее             1   \n",
       "16         0   -1719.934226         35              среднее             1   \n",
       "17         0   -2369.999720         33               высшее             0   \n",
       "18         0  400281.136913         53              среднее             1   \n",
       "19         0  -10038.818549         48              СРЕДНЕЕ             1   \n",
       "\n",
       "       family_status  family_status_id gender income_type  debt  \\\n",
       "0    женат / замужем                 0      F   сотрудник     0   \n",
       "1    женат / замужем                 0      F   сотрудник     0   \n",
       "2    женат / замужем                 0      M   сотрудник     0   \n",
       "3    женат / замужем                 0      M   сотрудник     0   \n",
       "4   гражданский брак                 1      F   пенсионер     0   \n",
       "5   гражданский брак                 1      M   компаньон     0   \n",
       "6    женат / замужем                 0      F   компаньон     0   \n",
       "7    женат / замужем                 0      M   сотрудник     0   \n",
       "8   гражданский брак                 1      F   сотрудник     0   \n",
       "9    женат / замужем                 0      M   сотрудник     0   \n",
       "10   женат / замужем                 0      M   компаньон     0   \n",
       "11   женат / замужем                 0      F   сотрудник     0   \n",
       "12  гражданский брак                 1      M   пенсионер     0   \n",
       "13   женат / замужем                 0      F   сотрудник     0   \n",
       "14  гражданский брак                 1      F   компаньон     1   \n",
       "15   женат / замужем                 0      F   сотрудник     0   \n",
       "16   женат / замужем                 0      F   сотрудник     0   \n",
       "17  гражданский брак                 1      M   сотрудник     0   \n",
       "18    вдовец / вдова                 2      F   пенсионер     0   \n",
       "19         в разводе                 3      F   сотрудник     0   \n",
       "\n",
       "     total_income                                 purpose  \n",
       "0   253875.639453                           покупка жилья  \n",
       "1   112080.014102                 приобретение автомобиля  \n",
       "2   145885.952297                           покупка жилья  \n",
       "3   267628.550329              дополнительное образование  \n",
       "4   158616.077870                         сыграть свадьбу  \n",
       "5   255763.565419                           покупка жилья  \n",
       "6   240525.971920                       операции с жильем  \n",
       "7   135823.934197                             образование  \n",
       "8    95856.832424                   на проведение свадьбы  \n",
       "9   144425.938277                 покупка жилья для семьи  \n",
       "10  113943.491460                    покупка недвижимости  \n",
       "11   77069.234271       покупка коммерческой недвижимости  \n",
       "12            NaN                         сыграть свадьбу  \n",
       "13  130458.228857                 приобретение автомобиля  \n",
       "14  165127.911772              покупка жилой недвижимости  \n",
       "15  116820.904450  строительство собственной недвижимости  \n",
       "16  289202.704229                            недвижимость  \n",
       "17   90410.586745              строительство недвижимости  \n",
       "18   56823.777243      на покупку подержанного автомобиля  \n",
       "19  242831.107982            на покупку своего автомобиля  "
      ]
     },
     "execution_count": 3,
     "metadata": {},
     "output_type": "execute_result"
    }
   ],
   "source": [
    "data.head(20)"
   ]
  },
  {
   "cell_type": "markdown",
   "id": "fc9bd88b",
   "metadata": {
    "deletable": false,
    "editable": false,
    "id": "1c12e233"
   },
   "source": [
    "**Задание 3. Выведите основную информацию о датафрейме с помощью метода `info()`.**"
   ]
  },
  {
   "cell_type": "code",
   "execution_count": 4,
   "id": "f9ce133c",
   "metadata": {
    "deletable": false,
    "id": "2b757bca",
    "outputId": "15376089-8dad-46c9-b520-c05248d43158",
    "scrolled": true
   },
   "outputs": [
    {
     "name": "stdout",
     "output_type": "stream",
     "text": [
      "<class 'pandas.core.frame.DataFrame'>\n",
      "RangeIndex: 21525 entries, 0 to 21524\n",
      "Data columns (total 12 columns):\n",
      " #   Column            Non-Null Count  Dtype  \n",
      "---  ------            --------------  -----  \n",
      " 0   children          21525 non-null  int64  \n",
      " 1   days_employed     19351 non-null  float64\n",
      " 2   dob_years         21525 non-null  int64  \n",
      " 3   education         21525 non-null  object \n",
      " 4   education_id      21525 non-null  int64  \n",
      " 5   family_status     21525 non-null  object \n",
      " 6   family_status_id  21525 non-null  int64  \n",
      " 7   gender            21525 non-null  object \n",
      " 8   income_type       21525 non-null  object \n",
      " 9   debt              21525 non-null  int64  \n",
      " 10  total_income      19351 non-null  float64\n",
      " 11  purpose           21525 non-null  object \n",
      "dtypes: float64(2), int64(5), object(5)\n",
      "memory usage: 2.0+ MB\n"
     ]
    }
   ],
   "source": [
    "data.info()"
   ]
  },
  {
   "cell_type": "markdown",
   "id": "6f0c1038",
   "metadata": {
    "deletable": false,
    "editable": false,
    "id": "333ec665"
   },
   "source": [
    "## Предобработка данных"
   ]
  },
  {
   "cell_type": "markdown",
   "id": "77362226",
   "metadata": {
    "deletable": false,
    "editable": false,
    "id": "02d92d53"
   },
   "source": [
    "### Удаление пропусков"
   ]
  },
  {
   "cell_type": "markdown",
   "id": "c7af535d",
   "metadata": {
    "deletable": false,
    "editable": false,
    "id": "cd84967c"
   },
   "source": [
    "**Задание 4. Выведите количество пропущенных значений для каждого столбца. Используйте комбинацию двух методов.**"
   ]
  },
  {
   "cell_type": "code",
   "execution_count": 5,
   "id": "76b29498",
   "metadata": {
    "deletable": false,
    "id": "7f9b2309",
    "outputId": "81f4d817-781c-465c-ed15-91ce4446810d",
    "scrolled": true
   },
   "outputs": [
    {
     "data": {
      "text/plain": [
       "children               0\n",
       "days_employed       2174\n",
       "dob_years              0\n",
       "education              0\n",
       "education_id           0\n",
       "family_status          0\n",
       "family_status_id       0\n",
       "gender                 0\n",
       "income_type            0\n",
       "debt                   0\n",
       "total_income        2174\n",
       "purpose                0\n",
       "dtype: int64"
      ]
     },
     "execution_count": 5,
     "metadata": {},
     "output_type": "execute_result"
    }
   ],
   "source": [
    "data.isna().sum()"
   ]
  },
  {
   "cell_type": "markdown",
   "id": "fb5c5bb5",
   "metadata": {
    "deletable": false,
    "editable": false,
    "id": "db86e27b"
   },
   "source": [
    "**Задание 5. В двух столбцах есть пропущенные значения. Один из них — `days_employed`. Пропуски в этом столбце вы обработаете на следующем этапе. Другой столбец с пропущенными значениями — `total_income` — хранит данные о доходах. На сумму дохода сильнее всего влияет тип занятости, поэтому заполнить пропуски в этом столбце нужно медианным значением по каждому типу из столбца `income_type`. Например, у человека с типом занятости `сотрудник` пропуск в столбце `total_income` должен быть заполнен медианным доходом среди всех записей с тем же типом.**"
   ]
  },
  {
   "cell_type": "code",
   "execution_count": 6,
   "id": "22af0213",
   "metadata": {
    "deletable": false,
    "id": "42006a93"
   },
   "outputs": [],
   "source": [
    "for t in data['income_type'].unique():\n",
    "    data.loc[(data['income_type'] == t) & (data['total_income'].isna()), 'total_income'] = \\\n",
    "    data.loc[(data['income_type'] == t), 'total_income'].median()"
   ]
  },
  {
   "cell_type": "markdown",
   "id": "7a84b356",
   "metadata": {
    "deletable": false,
    "editable": false,
    "id": "89da5ece"
   },
   "source": [
    "### Обработка аномальных значений"
   ]
  },
  {
   "cell_type": "markdown",
   "id": "9f310c82",
   "metadata": {
    "deletable": false,
    "editable": false,
    "id": "57964554"
   },
   "source": [
    "**Задание 6. В данных могут встречаться артефакты (аномалии) — значения, которые не отражают действительность и появились по какой-то ошибке. таким артефактом будет отрицательное количество дней трудового стажа в столбце `days_employed`. Для реальных данных это нормально. Обработайте значения в этом столбце: замените все отрицательные значения положительными с помощью метода `abs()`.**"
   ]
  },
  {
   "cell_type": "code",
   "execution_count": 7,
   "id": "4b53f061",
   "metadata": {
    "deletable": false,
    "id": "f6f055bf"
   },
   "outputs": [],
   "source": [
    "data['days_employed'] = data['days_employed'].abs()"
   ]
  },
  {
   "cell_type": "markdown",
   "id": "94a0ebae",
   "metadata": {
    "deletable": false,
    "editable": false,
    "id": "6107dd2f"
   },
   "source": [
    "**Задание 7. Для каждого типа занятости выведите медианное значение трудового стажа `days_employed` в днях.**"
   ]
  },
  {
   "cell_type": "code",
   "execution_count": 8,
   "id": "b106658a",
   "metadata": {
    "deletable": false,
    "id": "85a5faf6",
    "outputId": "801ef80e-522b-4668-f34e-565af7432bcf",
    "scrolled": true
   },
   "outputs": [
    {
     "data": {
      "text/plain": [
       "income_type\n",
       "безработный        366413.652744\n",
       "в декрете            3296.759962\n",
       "госслужащий          2689.368353\n",
       "компаньон            1547.382223\n",
       "пенсионер          365213.306266\n",
       "предприниматель       520.848083\n",
       "сотрудник            1574.202821\n",
       "студент               578.751554\n",
       "Name: days_employed, dtype: float64"
      ]
     },
     "execution_count": 8,
     "metadata": {},
     "output_type": "execute_result"
    }
   ],
   "source": [
    "data.groupby('income_type')['days_employed'].agg('median')"
   ]
  },
  {
   "cell_type": "markdown",
   "id": "c2564295",
   "metadata": {
    "deletable": false,
    "editable": false,
    "id": "38d1a030"
   },
   "source": [
    "У двух типов (безработные и пенсионеры) получатся аномально большие значения. Исправить такие значения сложно, поэтому оставьте их как есть. Тем более этот столбец не понадобится вам для исследования."
   ]
  },
  {
   "cell_type": "markdown",
   "id": "5872627e",
   "metadata": {
    "deletable": false,
    "editable": false,
    "id": "d8a9f147"
   },
   "source": [
    "**Задание 8. Выведите перечень уникальных значений столбца `children`.**"
   ]
  },
  {
   "cell_type": "code",
   "execution_count": 9,
   "id": "a70a3073",
   "metadata": {
    "deletable": false,
    "id": "ef5056eb",
    "outputId": "6975b15c-7f95-4697-d16d-a0c79b657b03"
   },
   "outputs": [
    {
     "data": {
      "text/plain": [
       "array([ 1,  0,  3,  2, -1,  4, 20,  5])"
      ]
     },
     "execution_count": 9,
     "metadata": {},
     "output_type": "execute_result"
    }
   ],
   "source": [
    "data['children'].unique()"
   ]
  },
  {
   "cell_type": "markdown",
   "id": "0097ba4e",
   "metadata": {
    "deletable": false,
    "editable": false,
    "id": "40b9ebf2"
   },
   "source": [
    "**Задание 9. В столбце `children` есть два аномальных значения. Удалите строки, в которых встречаются такие аномальные значения из датафрейма `data`.**"
   ]
  },
  {
   "cell_type": "code",
   "execution_count": 10,
   "id": "ed3ccf95",
   "metadata": {
    "deletable": false,
    "id": "3ff9801d"
   },
   "outputs": [],
   "source": [
    "data = data[(data['children'] != -1) & (data['children'] != 20)]"
   ]
  },
  {
   "cell_type": "markdown",
   "id": "ec07226b",
   "metadata": {
    "deletable": false,
    "editable": false,
    "id": "bbc4d0ce"
   },
   "source": [
    "**Задание 10. Ещё раз выведите перечень уникальных значений столбца `children`, чтобы убедиться, что артефакты удалены.**"
   ]
  },
  {
   "cell_type": "code",
   "execution_count": 11,
   "id": "fd9b1c68",
   "metadata": {
    "deletable": false,
    "id": "ad4fa8b7",
    "outputId": "b2097101-d49d-44d9-901b-32a65c9463d1"
   },
   "outputs": [
    {
     "data": {
      "text/plain": [
       "array([1, 0, 3, 2, 4, 5])"
      ]
     },
     "execution_count": 11,
     "metadata": {},
     "output_type": "execute_result"
    }
   ],
   "source": [
    "data['children'].unique()"
   ]
  },
  {
   "cell_type": "markdown",
   "id": "6da9e1da",
   "metadata": {
    "deletable": false,
    "editable": false,
    "id": "75440b63"
   },
   "source": [
    "### Удаление пропусков (продолжение)"
   ]
  },
  {
   "cell_type": "markdown",
   "id": "041c530d",
   "metadata": {
    "deletable": false,
    "editable": false,
    "id": "f4ea573f"
   },
   "source": [
    "**Задание 11. Заполните пропуски в столбце `days_employed` медианными значениями по каждого типа занятости `income_type`.**"
   ]
  },
  {
   "cell_type": "code",
   "execution_count": 12,
   "id": "6f128ac5",
   "metadata": {
    "deletable": false,
    "id": "af6b1a7e"
   },
   "outputs": [],
   "source": [
    "for t in data['income_type'].unique():\n",
    "    data.loc[(data['income_type'] == t) & (data['days_employed'].isna()), 'days_employed'] = \\\n",
    "    data.loc[(data['income_type'] == t), 'days_employed'].median()"
   ]
  },
  {
   "cell_type": "markdown",
   "id": "f0da7e84",
   "metadata": {
    "deletable": false,
    "editable": false,
    "id": "2753f40d"
   },
   "source": [
    "**Задание 12. Убедитесь, что все пропуски заполнены. Проверьте себя и ещё раз выведите количество пропущенных значений для каждого столбца с помощью двух методов.**"
   ]
  },
  {
   "cell_type": "code",
   "execution_count": 13,
   "id": "d0d154d1",
   "metadata": {
    "deletable": false,
    "id": "55f78bc2",
    "outputId": "8da1e4e1-358e-4e87-98c9-f261bce0a7b2",
    "scrolled": true
   },
   "outputs": [
    {
     "data": {
      "text/plain": [
       "children            0\n",
       "days_employed       0\n",
       "dob_years           0\n",
       "education           0\n",
       "education_id        0\n",
       "family_status       0\n",
       "family_status_id    0\n",
       "gender              0\n",
       "income_type         0\n",
       "debt                0\n",
       "total_income        0\n",
       "purpose             0\n",
       "dtype: int64"
      ]
     },
     "execution_count": 13,
     "metadata": {},
     "output_type": "execute_result"
    }
   ],
   "source": [
    "data.isna().sum()"
   ]
  },
  {
   "cell_type": "markdown",
   "id": "eabc38b2",
   "metadata": {
    "editable": false,
    "id": "ddc81e43"
   },
   "source": [
    "### Изменение типов данных"
   ]
  },
  {
   "cell_type": "markdown",
   "id": "165f419f",
   "metadata": {
    "editable": false,
    "id": "42d19d24"
   },
   "source": [
    "**Задание 13. Замените вещественный тип данных в столбце `total_income` на целочисленный с помощью метода `astype()`.**"
   ]
  },
  {
   "cell_type": "code",
   "execution_count": 14,
   "id": "fa59bf39",
   "metadata": {
    "deletable": false,
    "id": "920b65ad"
   },
   "outputs": [],
   "source": [
    "data['total_income'] = data['total_income'].astype(int)"
   ]
  },
  {
   "cell_type": "markdown",
   "id": "34bd5363",
   "metadata": {
    "deletable": false,
    "editable": false,
    "id": "80c420ba"
   },
   "source": [
    "### Обработка дубликатов"
   ]
  },
  {
   "cell_type": "markdown",
   "id": "cc513d89",
   "metadata": {
    "deletable": false,
    "editable": false
   },
   "source": [
    "**Задание 14. Обработайте неявные дубликаты в столбце `education`. В этом столбце есть одни и те же значения, но записанные по-разному: с использованием заглавных и строчных букв. Приведите их к нижнему регистру. Проверьте остальные столбцы.**"
   ]
  },
  {
   "cell_type": "code",
   "execution_count": 15,
   "id": "ae5a8c57",
   "metadata": {
    "deletable": false
   },
   "outputs": [],
   "source": [
    "data['education'] = data['education'].str.lower()"
   ]
  },
  {
   "cell_type": "markdown",
   "id": "7805e24b",
   "metadata": {
    "deletable": false,
    "editable": false,
    "id": "dc587695"
   },
   "source": [
    "**Задание 15. Выведите на экран количество строк-дубликатов в данных. Если такие строки присутствуют, удалите их.**"
   ]
  },
  {
   "cell_type": "code",
   "execution_count": 16,
   "id": "0a70b50f",
   "metadata": {
    "deletable": false,
    "id": "3ee445e4",
    "outputId": "9684deba-1934-42d1-99e1-cda61740f822"
   },
   "outputs": [
    {
     "data": {
      "text/plain": [
       "71"
      ]
     },
     "execution_count": 16,
     "metadata": {},
     "output_type": "execute_result"
    }
   ],
   "source": [
    "data.duplicated().sum()"
   ]
  },
  {
   "cell_type": "code",
   "execution_count": 17,
   "id": "6081cc1f",
   "metadata": {
    "deletable": false,
    "id": "8575fe05"
   },
   "outputs": [],
   "source": [
    "data = data.drop_duplicates()"
   ]
  },
  {
   "cell_type": "markdown",
   "id": "6cf30699",
   "metadata": {
    "deletable": false,
    "editable": false,
    "id": "9904cf55"
   },
   "source": [
    "### Категоризация данных"
   ]
  },
  {
   "cell_type": "markdown",
   "id": "84aa9f33",
   "metadata": {
    "deletable": false,
    "editable": false,
    "id": "72fcc8a2"
   },
   "source": [
    "**Задание 16. На основании диапазонов, указанных ниже, создайте в датафрейме `data` столбец `total_income_category` с категориями:**\n",
    "\n",
    "- 0–30000 — `'E'`;\n",
    "- 30001–50000 — `'D'`;\n",
    "- 50001–200000 — `'C'`;\n",
    "- 200001–1000000 — `'B'`;\n",
    "- 1000001 и выше — `'A'`.\n",
    "\n",
    "\n",
    "**Например, кредитополучателю с доходом 25000 нужно назначить категорию `'E'`, а клиенту, получающему 235000, — `'B'`. Используйте собственную функцию с именем `categorize_income()` и метод `apply()`.**"
   ]
  },
  {
   "cell_type": "code",
   "execution_count": 18,
   "id": "af3fa7ee",
   "metadata": {
    "deletable": false,
    "id": "e1771346"
   },
   "outputs": [],
   "source": [
    "def categorize_income(income):\n",
    "    try:\n",
    "        if 0 <= income <= 30000:\n",
    "            return 'E'\n",
    "        elif 30001 <= income <= 50000:\n",
    "            return 'D'\n",
    "        elif 50001 <= income <= 200000:\n",
    "            return 'C'\n",
    "        elif 200001 <= income <= 1000000:\n",
    "            return 'B'\n",
    "        elif income >= 1000001:\n",
    "            return 'A'\n",
    "    except:\n",
    "        pass"
   ]
  },
  {
   "cell_type": "code",
   "execution_count": 19,
   "id": "b08cdedc",
   "metadata": {
    "deletable": false,
    "id": "d5f3586d"
   },
   "outputs": [],
   "source": [
    "data['total_income_category'] = data['total_income'].apply(categorize_income)"
   ]
  },
  {
   "cell_type": "markdown",
   "id": "5bd478a5",
   "metadata": {
    "deletable": false,
    "editable": false,
    "id": "dde49b5c"
   },
   "source": [
    "**Задание 17. Выведите на экран перечень уникальных целей взятия кредита из столбца `purpose`.**"
   ]
  },
  {
   "cell_type": "code",
   "execution_count": 20,
   "id": "4931ba6e",
   "metadata": {
    "deletable": false,
    "id": "f67ce9b3",
    "outputId": "673c12d9-7d7e-4ae0-9812-c622c89dd244"
   },
   "outputs": [
    {
     "data": {
      "text/plain": [
       "array(['покупка жилья', 'приобретение автомобиля',\n",
       "       'дополнительное образование', 'сыграть свадьбу',\n",
       "       'операции с жильем', 'образование', 'на проведение свадьбы',\n",
       "       'покупка жилья для семьи', 'покупка недвижимости',\n",
       "       'покупка коммерческой недвижимости', 'покупка жилой недвижимости',\n",
       "       'строительство собственной недвижимости', 'недвижимость',\n",
       "       'строительство недвижимости', 'на покупку подержанного автомобиля',\n",
       "       'на покупку своего автомобиля',\n",
       "       'операции с коммерческой недвижимостью',\n",
       "       'строительство жилой недвижимости', 'жилье',\n",
       "       'операции со своей недвижимостью', 'автомобили',\n",
       "       'заняться образованием', 'сделка с подержанным автомобилем',\n",
       "       'получение образования', 'автомобиль', 'свадьба',\n",
       "       'получение дополнительного образования', 'покупка своего жилья',\n",
       "       'операции с недвижимостью', 'получение высшего образования',\n",
       "       'свой автомобиль', 'сделка с автомобилем',\n",
       "       'профильное образование', 'высшее образование',\n",
       "       'покупка жилья для сдачи', 'на покупку автомобиля', 'ремонт жилью',\n",
       "       'заняться высшим образованием'], dtype=object)"
      ]
     },
     "execution_count": 20,
     "metadata": {},
     "output_type": "execute_result"
    }
   ],
   "source": [
    "data['purpose'].unique()"
   ]
  },
  {
   "cell_type": "markdown",
   "id": "cac99d30",
   "metadata": {
    "deletable": false,
    "editable": false,
    "id": "85d0aef0"
   },
   "source": [
    "**Задание 18. Создайте функцию, которая на основании данных из столбца `purpose` сформирует новый столбец `purpose_category`, в который войдут следующие категории:**\n",
    "\n",
    "- `'операции с автомобилем'`,\n",
    "- `'операции с недвижимостью'`,\n",
    "- `'проведение свадьбы'`,\n",
    "- `'получение образования'`.\n",
    "\n",
    "**Например, если в столбце `purpose` находится подстрока `'на покупку автомобиля'`, то в столбце `purpose_category` должна появиться строка `'операции с автомобилем'`.**\n",
    "\n",
    "**Используйте собственную функцию с именем `categorize_purpose()` и метод `apply()`. Изучите данные в столбце `purpose` и определите, какие подстроки помогут вам правильно определить категорию.**"
   ]
  },
  {
   "cell_type": "code",
   "execution_count": 21,
   "id": "2bb86290",
   "metadata": {
    "deletable": false,
    "id": "e149fab4"
   },
   "outputs": [],
   "source": [
    "def categorize_purpose(row):\n",
    "    try:\n",
    "        if 'автом' in row:\n",
    "            return 'операции с автомобилем'\n",
    "        elif 'жил' in row or 'недвиж' in row:\n",
    "            return 'операции с недвижимостью'\n",
    "        elif 'свад' in row:\n",
    "            return 'проведение свадьбы'\n",
    "        elif 'образов' in row:\n",
    "            return 'получение образования'\n",
    "    except:\n",
    "        return 'нет категории'"
   ]
  },
  {
   "cell_type": "code",
   "execution_count": 22,
   "id": "4ea5ba9f",
   "metadata": {
    "deletable": false,
    "id": "bf36e69b"
   },
   "outputs": [],
   "source": [
    "data['purpose_category'] = data['purpose'].apply(categorize_purpose)"
   ]
  },
  {
   "cell_type": "markdown",
   "id": "6f665c02",
   "metadata": {
    "deletable": false,
    "editable": false,
    "id": "09b242bf"
   },
   "source": [
    "### Шаг 3. Исследуйте данные и ответьте на вопросы"
   ]
  },
  {
   "cell_type": "code",
   "execution_count": 23,
   "id": "a5c4620c",
   "metadata": {},
   "outputs": [
    {
     "data": {
      "text/plain": [
       "(21331, 14)"
      ]
     },
     "execution_count": 23,
     "metadata": {},
     "output_type": "execute_result"
    }
   ],
   "source": [
    "data.shape"
   ]
  },
  {
   "cell_type": "code",
   "execution_count": 24,
   "id": "24760976",
   "metadata": {},
   "outputs": [],
   "source": [
    "import math\n",
    "import matplotlib.pyplot as plt\n",
    "import numpy as np\n",
    "import pylab\n",
    "import seaborn as sns\n",
    "from random import randint"
   ]
  },
  {
   "cell_type": "code",
   "execution_count": 25,
   "id": "8db2e772",
   "metadata": {},
   "outputs": [
    {
     "data": {
      "text/plain": [
       "1732"
      ]
     },
     "execution_count": 25,
     "metadata": {},
     "output_type": "execute_result"
    }
   ],
   "source": [
    "common_is_debt_cnt = data[data['debt']==1]['debt'].count()\n",
    "common_is_debt_cnt"
   ]
  },
  {
   "cell_type": "code",
   "execution_count": 26,
   "id": "6f915bb8",
   "metadata": {
    "scrolled": true
   },
   "outputs": [
    {
     "data": {
      "text/plain": [
       "19599"
      ]
     },
     "execution_count": 26,
     "metadata": {},
     "output_type": "execute_result"
    }
   ],
   "source": [
    "common_not_debt_cnt = data[data['debt']==0]['debt'].count()\n",
    "common_not_debt_cnt"
   ]
  },
  {
   "cell_type": "code",
   "execution_count": 27,
   "id": "54ff511b",
   "metadata": {},
   "outputs": [],
   "source": [
    "NORMAL_COLORS = ['#FDC5F0', '#E3C5FD', '#C5CEFD', '#C5F0FD', '#C5FDE3', '#DDFDC5', \n",
    "                 '#FFA6FA', '#D6A6FF', '#A6B2FF', '#A6EBFF', '#A6FFB5', '#E8FFA6', \n",
    "                 '#FF87EC', '#CC87FF', '#8787FF', '#87DCFF', '#87FF9F', '#CCFF87', \n",
    "                 '#FF64E1', '#F064FF', '#8864FF', '#64A7FF', '#64FFAD', '#ADFF64',\n",
    "                ]"
   ]
  },
  {
   "cell_type": "code",
   "execution_count": 28,
   "id": "54aa5bca",
   "metadata": {},
   "outputs": [],
   "source": [
    "def pie_chart(size, explode, labels, colors, title='Должники'):\n",
    "    plt.pie(size, explode=explode, labels=labels, shadow=False, startangle=50, \n",
    "        autopct='%1.2f%%', radius=2, pctdistance=0.4, center=(0,0), colors=colors)\n",
    "    plt.title(title, y=1.6, fontsize=20, fontweight='bold')\n",
    "    plt.show()"
   ]
  },
  {
   "cell_type": "code",
   "execution_count": 29,
   "id": "0e27dfdf",
   "metadata": {},
   "outputs": [],
   "source": [
    "def piv_tbl(table, grp_field='children', field='debt'):\n",
    "    try:\n",
    "        return table.groupby(grp_field)[field].agg(['count', 'sum', 'mean']\n",
    "                                     ).sort_values(by='mean', ascending=False)\n",
    "    except:\n",
    "        print(f'Группировочное поле {grp_field} или поле для вывода {field} отсутствуют в таблице')\n",
    "        print(table.columns)\n",
    "        return table"
   ]
  },
  {
   "cell_type": "markdown",
   "id": "8901fd3e",
   "metadata": {
    "deletable": false,
    "editable": false,
    "id": "c5d66278"
   },
   "source": [
    "#### 3.1 Есть ли зависимость между количеством детей и возвратом кредита в срок?"
   ]
  },
  {
   "cell_type": "code",
   "execution_count": 30,
   "id": "63b8ce58",
   "metadata": {},
   "outputs": [
    {
     "data": {
      "text/html": [
       "<div>\n",
       "<style scoped>\n",
       "    .dataframe tbody tr th:only-of-type {\n",
       "        vertical-align: middle;\n",
       "    }\n",
       "\n",
       "    .dataframe tbody tr th {\n",
       "        vertical-align: top;\n",
       "    }\n",
       "\n",
       "    .dataframe thead th {\n",
       "        text-align: right;\n",
       "    }\n",
       "</style>\n",
       "<table border=\"1\" class=\"dataframe\">\n",
       "  <thead>\n",
       "    <tr style=\"text-align: right;\">\n",
       "      <th></th>\n",
       "      <th>children</th>\n",
       "      <th>days_employed</th>\n",
       "      <th>dob_years</th>\n",
       "      <th>education</th>\n",
       "      <th>education_id</th>\n",
       "      <th>family_status</th>\n",
       "      <th>family_status_id</th>\n",
       "      <th>gender</th>\n",
       "      <th>income_type</th>\n",
       "      <th>debt</th>\n",
       "      <th>total_income</th>\n",
       "      <th>purpose</th>\n",
       "      <th>total_income_category</th>\n",
       "      <th>purpose_category</th>\n",
       "    </tr>\n",
       "  </thead>\n",
       "  <tbody>\n",
       "    <tr>\n",
       "      <th>0</th>\n",
       "      <td>1</td>\n",
       "      <td>8437.673028</td>\n",
       "      <td>42</td>\n",
       "      <td>высшее</td>\n",
       "      <td>0</td>\n",
       "      <td>женат / замужем</td>\n",
       "      <td>0</td>\n",
       "      <td>F</td>\n",
       "      <td>сотрудник</td>\n",
       "      <td>0</td>\n",
       "      <td>253875</td>\n",
       "      <td>покупка жилья</td>\n",
       "      <td>B</td>\n",
       "      <td>операции с недвижимостью</td>\n",
       "    </tr>\n",
       "    <tr>\n",
       "      <th>1</th>\n",
       "      <td>1</td>\n",
       "      <td>4024.803754</td>\n",
       "      <td>36</td>\n",
       "      <td>среднее</td>\n",
       "      <td>1</td>\n",
       "      <td>женат / замужем</td>\n",
       "      <td>0</td>\n",
       "      <td>F</td>\n",
       "      <td>сотрудник</td>\n",
       "      <td>0</td>\n",
       "      <td>112080</td>\n",
       "      <td>приобретение автомобиля</td>\n",
       "      <td>C</td>\n",
       "      <td>операции с автомобилем</td>\n",
       "    </tr>\n",
       "    <tr>\n",
       "      <th>2</th>\n",
       "      <td>0</td>\n",
       "      <td>5623.422610</td>\n",
       "      <td>33</td>\n",
       "      <td>среднее</td>\n",
       "      <td>1</td>\n",
       "      <td>женат / замужем</td>\n",
       "      <td>0</td>\n",
       "      <td>M</td>\n",
       "      <td>сотрудник</td>\n",
       "      <td>0</td>\n",
       "      <td>145885</td>\n",
       "      <td>покупка жилья</td>\n",
       "      <td>C</td>\n",
       "      <td>операции с недвижимостью</td>\n",
       "    </tr>\n",
       "    <tr>\n",
       "      <th>3</th>\n",
       "      <td>3</td>\n",
       "      <td>4124.747207</td>\n",
       "      <td>32</td>\n",
       "      <td>среднее</td>\n",
       "      <td>1</td>\n",
       "      <td>женат / замужем</td>\n",
       "      <td>0</td>\n",
       "      <td>M</td>\n",
       "      <td>сотрудник</td>\n",
       "      <td>0</td>\n",
       "      <td>267628</td>\n",
       "      <td>дополнительное образование</td>\n",
       "      <td>B</td>\n",
       "      <td>получение образования</td>\n",
       "    </tr>\n",
       "    <tr>\n",
       "      <th>4</th>\n",
       "      <td>0</td>\n",
       "      <td>340266.072047</td>\n",
       "      <td>53</td>\n",
       "      <td>среднее</td>\n",
       "      <td>1</td>\n",
       "      <td>гражданский брак</td>\n",
       "      <td>1</td>\n",
       "      <td>F</td>\n",
       "      <td>пенсионер</td>\n",
       "      <td>0</td>\n",
       "      <td>158616</td>\n",
       "      <td>сыграть свадьбу</td>\n",
       "      <td>C</td>\n",
       "      <td>проведение свадьбы</td>\n",
       "    </tr>\n",
       "  </tbody>\n",
       "</table>\n",
       "</div>"
      ],
      "text/plain": [
       "   children  days_employed  dob_years education  education_id  \\\n",
       "0         1    8437.673028         42    высшее             0   \n",
       "1         1    4024.803754         36   среднее             1   \n",
       "2         0    5623.422610         33   среднее             1   \n",
       "3         3    4124.747207         32   среднее             1   \n",
       "4         0  340266.072047         53   среднее             1   \n",
       "\n",
       "      family_status  family_status_id gender income_type  debt  total_income  \\\n",
       "0   женат / замужем                 0      F   сотрудник     0        253875   \n",
       "1   женат / замужем                 0      F   сотрудник     0        112080   \n",
       "2   женат / замужем                 0      M   сотрудник     0        145885   \n",
       "3   женат / замужем                 0      M   сотрудник     0        267628   \n",
       "4  гражданский брак                 1      F   пенсионер     0        158616   \n",
       "\n",
       "                      purpose total_income_category          purpose_category  \n",
       "0               покупка жилья                     B  операции с недвижимостью  \n",
       "1     приобретение автомобиля                     C    операции с автомобилем  \n",
       "2               покупка жилья                     C  операции с недвижимостью  \n",
       "3  дополнительное образование                     B     получение образования  \n",
       "4             сыграть свадьбу                     C        проведение свадьбы  "
      ]
     },
     "execution_count": 30,
     "metadata": {},
     "output_type": "execute_result"
    }
   ],
   "source": [
    "data.head()"
   ]
  },
  {
   "cell_type": "code",
   "execution_count": 31,
   "id": "ac80bdae",
   "metadata": {
    "deletable": false,
    "id": "2cacfc4a"
   },
   "outputs": [],
   "source": [
    "# Ваш код будет здесь. Вы можете создавать новые ячейки."
   ]
  },
  {
   "cell_type": "code",
   "execution_count": 32,
   "id": "83ce2615",
   "metadata": {
    "scrolled": true
   },
   "outputs": [
    {
     "data": {
      "text/html": [
       "<div>\n",
       "<style scoped>\n",
       "    .dataframe tbody tr th:only-of-type {\n",
       "        vertical-align: middle;\n",
       "    }\n",
       "\n",
       "    .dataframe tbody tr th {\n",
       "        vertical-align: top;\n",
       "    }\n",
       "\n",
       "    .dataframe thead th {\n",
       "        text-align: right;\n",
       "    }\n",
       "</style>\n",
       "<table border=\"1\" class=\"dataframe\">\n",
       "  <thead>\n",
       "    <tr style=\"text-align: right;\">\n",
       "      <th></th>\n",
       "      <th>count</th>\n",
       "      <th>sum</th>\n",
       "      <th>mean</th>\n",
       "      <th>perc</th>\n",
       "    </tr>\n",
       "    <tr>\n",
       "      <th>children</th>\n",
       "      <th></th>\n",
       "      <th></th>\n",
       "      <th></th>\n",
       "      <th></th>\n",
       "    </tr>\n",
       "  </thead>\n",
       "  <tbody>\n",
       "    <tr>\n",
       "      <th>4</th>\n",
       "      <td>41</td>\n",
       "      <td>4</td>\n",
       "      <td>0.097561</td>\n",
       "      <td>9.756098</td>\n",
       "    </tr>\n",
       "    <tr>\n",
       "      <th>2</th>\n",
       "      <td>2052</td>\n",
       "      <td>194</td>\n",
       "      <td>0.094542</td>\n",
       "      <td>9.454191</td>\n",
       "    </tr>\n",
       "    <tr>\n",
       "      <th>1</th>\n",
       "      <td>4808</td>\n",
       "      <td>444</td>\n",
       "      <td>0.092346</td>\n",
       "      <td>9.234609</td>\n",
       "    </tr>\n",
       "    <tr>\n",
       "      <th>3</th>\n",
       "      <td>330</td>\n",
       "      <td>27</td>\n",
       "      <td>0.081818</td>\n",
       "      <td>8.181818</td>\n",
       "    </tr>\n",
       "    <tr>\n",
       "      <th>0</th>\n",
       "      <td>14091</td>\n",
       "      <td>1063</td>\n",
       "      <td>0.075438</td>\n",
       "      <td>7.543822</td>\n",
       "    </tr>\n",
       "    <tr>\n",
       "      <th>5</th>\n",
       "      <td>9</td>\n",
       "      <td>0</td>\n",
       "      <td>0.000000</td>\n",
       "      <td>0.000000</td>\n",
       "    </tr>\n",
       "  </tbody>\n",
       "</table>\n",
       "</div>"
      ],
      "text/plain": [
       "          count   sum      mean      perc\n",
       "children                                 \n",
       "4            41     4  0.097561  9.756098\n",
       "2          2052   194  0.094542  9.454191\n",
       "1          4808   444  0.092346  9.234609\n",
       "3           330    27  0.081818  8.181818\n",
       "0         14091  1063  0.075438  7.543822\n",
       "5             9     0  0.000000  0.000000"
      ]
     },
     "execution_count": 32,
     "metadata": {},
     "output_type": "execute_result"
    }
   ],
   "source": [
    "data_grp = piv_tbl(data, 'children', 'debt')\n",
    "data_grp['perc'] = data_grp['mean']*100.0\n",
    "data_grp               "
   ]
  },
  {
   "cell_type": "code",
   "execution_count": 33,
   "id": "7e1cfade",
   "metadata": {
    "scrolled": true
   },
   "outputs": [
    {
     "data": {
      "image/png": "[encoded data removed]",
      "text/plain": [
       "<Figure size 432x288 with 1 Axes>"
      ]
     },
     "metadata": {},
     "output_type": "display_data"
    }
   ],
   "source": [
    "labels= data_grp.index\n",
    "size = data_grp['perc']\n",
    "explode = [0.1 if x == max(size) else 0 for x in size]\n",
    "colors = ['#FF8080' if x == max(size) else NORMAL_COLORS[randint(0, len(NORMAL_COLORS)-1)] for x in size]\n",
    "pie_chart(size, explode, labels, colors) # Строим график"
   ]
  },
  {
   "cell_type": "markdown",
   "id": "5cdb2ff1",
   "metadata": {
    "deletable": false,
    "id": "3a6b99ec"
   },
   "source": [
    "\n",
    "\n",
    "**Вывод:** \n"
   ]
  },
  {
   "cell_type": "markdown",
   "id": "d20f33e4",
   "metadata": {},
   "source": [
    "Можно сделать следующий вывод, что наличие ребенка в семье приводит к тому, что заемщик может просрочить оплату по кредиту. Если рассматривать семьи с 5-ю детьми, то в данном случае, полагаю, что выборка не репрезентативна, так как количество 5-ти детных кратно меньше, чем остальных категорий. 5-ти детные в целом редкое явление, но предполагаю, что с увеличением данных по данной группе, они также окажутся в группе \"частых\" должников"
   ]
  },
  {
   "cell_type": "markdown",
   "id": "cd03e2fa",
   "metadata": {
    "deletable": false,
    "editable": false,
    "id": "97be82ca"
   },
   "source": [
    "#### 3.2 Есть ли зависимость между семейным положением и возвратом кредита в срок?"
   ]
  },
  {
   "cell_type": "code",
   "execution_count": 34,
   "id": "60663987",
   "metadata": {
    "deletable": false,
    "id": "dc3f7ee8"
   },
   "outputs": [],
   "source": [
    "# Ваш код будет здесь. Вы можете создавать новые ячейки."
   ]
  },
  {
   "cell_type": "code",
   "execution_count": 35,
   "id": "df0ed0ac",
   "metadata": {
    "scrolled": false
   },
   "outputs": [
    {
     "data": {
      "text/html": [
       "<div>\n",
       "<style scoped>\n",
       "    .dataframe tbody tr th:only-of-type {\n",
       "        vertical-align: middle;\n",
       "    }\n",
       "\n",
       "    .dataframe tbody tr th {\n",
       "        vertical-align: top;\n",
       "    }\n",
       "\n",
       "    .dataframe thead th {\n",
       "        text-align: right;\n",
       "    }\n",
       "</style>\n",
       "<table border=\"1\" class=\"dataframe\">\n",
       "  <thead>\n",
       "    <tr style=\"text-align: right;\">\n",
       "      <th></th>\n",
       "      <th>count</th>\n",
       "      <th>sum</th>\n",
       "      <th>mean</th>\n",
       "      <th>perc</th>\n",
       "    </tr>\n",
       "    <tr>\n",
       "      <th>family_status</th>\n",
       "      <th></th>\n",
       "      <th></th>\n",
       "      <th></th>\n",
       "      <th></th>\n",
       "    </tr>\n",
       "  </thead>\n",
       "  <tbody>\n",
       "    <tr>\n",
       "      <th>Не женат / не замужем</th>\n",
       "      <td>2796</td>\n",
       "      <td>273</td>\n",
       "      <td>0.097639</td>\n",
       "      <td>9.763948</td>\n",
       "    </tr>\n",
       "    <tr>\n",
       "      <th>гражданский брак</th>\n",
       "      <td>4134</td>\n",
       "      <td>385</td>\n",
       "      <td>0.093130</td>\n",
       "      <td>9.313014</td>\n",
       "    </tr>\n",
       "    <tr>\n",
       "      <th>женат / замужем</th>\n",
       "      <td>12261</td>\n",
       "      <td>927</td>\n",
       "      <td>0.075606</td>\n",
       "      <td>7.560558</td>\n",
       "    </tr>\n",
       "    <tr>\n",
       "      <th>в разводе</th>\n",
       "      <td>1189</td>\n",
       "      <td>84</td>\n",
       "      <td>0.070648</td>\n",
       "      <td>7.064760</td>\n",
       "    </tr>\n",
       "    <tr>\n",
       "      <th>вдовец / вдова</th>\n",
       "      <td>951</td>\n",
       "      <td>63</td>\n",
       "      <td>0.066246</td>\n",
       "      <td>6.624606</td>\n",
       "    </tr>\n",
       "  </tbody>\n",
       "</table>\n",
       "</div>"
      ],
      "text/plain": [
       "                       count  sum      mean      perc\n",
       "family_status                                        \n",
       "Не женат / не замужем   2796  273  0.097639  9.763948\n",
       "гражданский брак        4134  385  0.093130  9.313014\n",
       "женат / замужем        12261  927  0.075606  7.560558\n",
       "в разводе               1189   84  0.070648  7.064760\n",
       "вдовец / вдова           951   63  0.066246  6.624606"
      ]
     },
     "execution_count": 35,
     "metadata": {},
     "output_type": "execute_result"
    }
   ],
   "source": [
    "data_grp = piv_tbl(data, 'family_status', 'debt')\n",
    "data_grp['perc'] = data_grp['mean']*100.0\n",
    "data_grp               "
   ]
  },
  {
   "cell_type": "code",
   "execution_count": 36,
   "id": "2a11e9f9",
   "metadata": {
    "scrolled": true
   },
   "outputs": [
    {
     "data": {
      "image/png": "[encoded data removed]",
      "text/plain": [
       "<Figure size 432x288 with 1 Axes>"
      ]
     },
     "metadata": {},
     "output_type": "display_data"
    }
   ],
   "source": [
    "labels= data_grp.index\n",
    "size = data_grp['perc']\n",
    "explode = [0.1 if x == max(size) else 0 for x in size]\n",
    "colors = ['#FF8080' if x == max(size) else NORMAL_COLORS[randint(0, len(NORMAL_COLORS)-1)] for x in size]\n",
    "pie_chart(size, explode, labels, colors) # Строим график"
   ]
  },
  {
   "cell_type": "markdown",
   "id": "bf33d1f3",
   "metadata": {
    "deletable": false,
    "id": "1cef7837"
   },
   "source": [
    "**Вывод:** "
   ]
  },
  {
   "cell_type": "markdown",
   "id": "8bea54fe",
   "metadata": {},
   "source": [
    "Большое число должников среди людей, которые не состоят/не состояли в браке. Предполагаю, что они чаще и больше берут кредиты на различные нужды (или даже хотелки), что потом не в состоянии выплатить вовремя кредит. Также, скорее всего, играет роль, что они сами выплачивают кредит. \n",
    "Если анализировать гражданские и официальны браки, то тут, скорее всего, чаще и больше берутся кредиты на семейные нужды: бытовые приборы, ремонт, отпуск, автомобиль\n",
    "Если рассматривать две оставшиеся группы, то среди них малое число должников, предположительно, говорит о том, что это группы, у которых, как говорится, уже все есть и они уже \"встали на ноги\". "
   ]
  },
  {
   "cell_type": "markdown",
   "id": "fc8cb068",
   "metadata": {
    "deletable": false,
    "editable": false,
    "id": "1e8b2fca"
   },
   "source": [
    "#### 3.3 Есть ли зависимость между уровнем дохода и возвратом кредита в срок?"
   ]
  },
  {
   "cell_type": "code",
   "execution_count": 37,
   "id": "cbb6d2bd",
   "metadata": {
    "deletable": false,
    "id": "cd7e3720"
   },
   "outputs": [],
   "source": [
    "# Ваш код будет здесь. Вы можете создавать новые ячейки."
   ]
  },
  {
   "cell_type": "code",
   "execution_count": 38,
   "id": "8e51d5f8",
   "metadata": {
    "scrolled": false
   },
   "outputs": [
    {
     "data": {
      "text/html": [
       "<div>\n",
       "<style scoped>\n",
       "    .dataframe tbody tr th:only-of-type {\n",
       "        vertical-align: middle;\n",
       "    }\n",
       "\n",
       "    .dataframe tbody tr th {\n",
       "        vertical-align: top;\n",
       "    }\n",
       "\n",
       "    .dataframe thead th {\n",
       "        text-align: right;\n",
       "    }\n",
       "</style>\n",
       "<table border=\"1\" class=\"dataframe\">\n",
       "  <thead>\n",
       "    <tr style=\"text-align: right;\">\n",
       "      <th></th>\n",
       "      <th>count</th>\n",
       "      <th>sum</th>\n",
       "      <th>mean</th>\n",
       "      <th>perc</th>\n",
       "    </tr>\n",
       "    <tr>\n",
       "      <th>total_income_category</th>\n",
       "      <th></th>\n",
       "      <th></th>\n",
       "      <th></th>\n",
       "      <th></th>\n",
       "    </tr>\n",
       "  </thead>\n",
       "  <tbody>\n",
       "    <tr>\n",
       "      <th>E</th>\n",
       "      <td>22</td>\n",
       "      <td>2</td>\n",
       "      <td>0.090909</td>\n",
       "      <td>9.090909</td>\n",
       "    </tr>\n",
       "    <tr>\n",
       "      <th>C</th>\n",
       "      <td>15921</td>\n",
       "      <td>1353</td>\n",
       "      <td>0.084982</td>\n",
       "      <td>8.498210</td>\n",
       "    </tr>\n",
       "    <tr>\n",
       "      <th>A</th>\n",
       "      <td>25</td>\n",
       "      <td>2</td>\n",
       "      <td>0.080000</td>\n",
       "      <td>8.000000</td>\n",
       "    </tr>\n",
       "    <tr>\n",
       "      <th>B</th>\n",
       "      <td>5014</td>\n",
       "      <td>354</td>\n",
       "      <td>0.070602</td>\n",
       "      <td>7.060231</td>\n",
       "    </tr>\n",
       "    <tr>\n",
       "      <th>D</th>\n",
       "      <td>349</td>\n",
       "      <td>21</td>\n",
       "      <td>0.060172</td>\n",
       "      <td>6.017192</td>\n",
       "    </tr>\n",
       "  </tbody>\n",
       "</table>\n",
       "</div>"
      ],
      "text/plain": [
       "                       count   sum      mean      perc\n",
       "total_income_category                                 \n",
       "E                         22     2  0.090909  9.090909\n",
       "C                      15921  1353  0.084982  8.498210\n",
       "A                         25     2  0.080000  8.000000\n",
       "B                       5014   354  0.070602  7.060231\n",
       "D                        349    21  0.060172  6.017192"
      ]
     },
     "execution_count": 38,
     "metadata": {},
     "output_type": "execute_result"
    }
   ],
   "source": [
    "data_grp = piv_tbl(data, 'total_income_category', 'debt')\n",
    "data_grp['perc'] = data_grp['mean']*100.0\n",
    "data_grp               "
   ]
  },
  {
   "cell_type": "code",
   "execution_count": 39,
   "id": "ef0df894",
   "metadata": {
    "scrolled": true
   },
   "outputs": [
    {
     "data": {
      "image/png": "[encoded data removed]",
      "text/plain": [
       "<Figure size 432x288 with 1 Axes>"
      ]
     },
     "metadata": {},
     "output_type": "display_data"
    }
   ],
   "source": [
    "labels= data_grp.index\n",
    "size = data_grp['perc']\n",
    "explode = [0.1 if x == max(size) else 0 for x in size]\n",
    "colors = ['#FF8080' if x == max(size) else NORMAL_COLORS[randint(0, len(NORMAL_COLORS)-1)] for x in size]\n",
    "pie_chart(size, explode, labels, colors) # Строим график"
   ]
  },
  {
   "cell_type": "markdown",
   "id": "24fd9f67",
   "metadata": {
    "deletable": false,
    "id": "e8593def"
   },
   "source": [
    "**Вывод:** "
   ]
  },
  {
   "cell_type": "markdown",
   "id": "96699c99",
   "metadata": {},
   "source": [
    "Самые частые должники - это люди с низкими доходами, скорее всего, они чаще берут кредиты на жизненно-необходимые вещи, такие как еда и одежда, так как собственных доходов не хватает."
   ]
  },
  {
   "cell_type": "markdown",
   "id": "7440a557",
   "metadata": {
    "deletable": false,
    "editable": false,
    "id": "99ecbd1f"
   },
   "source": [
    "#### 3.4 Как разные цели кредита влияют на его возврат в срок?"
   ]
  },
  {
   "cell_type": "code",
   "execution_count": 40,
   "id": "6c1431ae",
   "metadata": {
    "deletable": false,
    "id": "2b687290"
   },
   "outputs": [],
   "source": [
    "# Ваш код будет здесь. Вы можете создавать новые ячейки."
   ]
  },
  {
   "cell_type": "code",
   "execution_count": 41,
   "id": "3953e2cd",
   "metadata": {
    "scrolled": false
   },
   "outputs": [
    {
     "data": {
      "text/html": [
       "<div>\n",
       "<style scoped>\n",
       "    .dataframe tbody tr th:only-of-type {\n",
       "        vertical-align: middle;\n",
       "    }\n",
       "\n",
       "    .dataframe tbody tr th {\n",
       "        vertical-align: top;\n",
       "    }\n",
       "\n",
       "    .dataframe thead th {\n",
       "        text-align: right;\n",
       "    }\n",
       "</style>\n",
       "<table border=\"1\" class=\"dataframe\">\n",
       "  <thead>\n",
       "    <tr style=\"text-align: right;\">\n",
       "      <th></th>\n",
       "      <th>count</th>\n",
       "      <th>sum</th>\n",
       "      <th>mean</th>\n",
       "      <th>perc</th>\n",
       "    </tr>\n",
       "    <tr>\n",
       "      <th>purpose_category</th>\n",
       "      <th></th>\n",
       "      <th></th>\n",
       "      <th></th>\n",
       "      <th></th>\n",
       "    </tr>\n",
       "  </thead>\n",
       "  <tbody>\n",
       "    <tr>\n",
       "      <th>операции с автомобилем</th>\n",
       "      <td>4279</td>\n",
       "      <td>400</td>\n",
       "      <td>0.093480</td>\n",
       "      <td>9.347978</td>\n",
       "    </tr>\n",
       "    <tr>\n",
       "      <th>получение образования</th>\n",
       "      <td>3988</td>\n",
       "      <td>369</td>\n",
       "      <td>0.092528</td>\n",
       "      <td>9.252758</td>\n",
       "    </tr>\n",
       "    <tr>\n",
       "      <th>проведение свадьбы</th>\n",
       "      <td>2313</td>\n",
       "      <td>183</td>\n",
       "      <td>0.079118</td>\n",
       "      <td>7.911803</td>\n",
       "    </tr>\n",
       "    <tr>\n",
       "      <th>операции с недвижимостью</th>\n",
       "      <td>10751</td>\n",
       "      <td>780</td>\n",
       "      <td>0.072551</td>\n",
       "      <td>7.255139</td>\n",
       "    </tr>\n",
       "  </tbody>\n",
       "</table>\n",
       "</div>"
      ],
      "text/plain": [
       "                          count  sum      mean      perc\n",
       "purpose_category                                        \n",
       "операции с автомобилем     4279  400  0.093480  9.347978\n",
       "получение образования      3988  369  0.092528  9.252758\n",
       "проведение свадьбы         2313  183  0.079118  7.911803\n",
       "операции с недвижимостью  10751  780  0.072551  7.255139"
      ]
     },
     "execution_count": 41,
     "metadata": {},
     "output_type": "execute_result"
    }
   ],
   "source": [
    "data_grp = piv_tbl(data, 'purpose_category', 'debt')\n",
    "data_grp['perc'] = data_grp['mean']*100.0\n",
    "data_grp               "
   ]
  },
  {
   "cell_type": "code",
   "execution_count": 42,
   "id": "2e3ca684",
   "metadata": {
    "scrolled": true
   },
   "outputs": [
    {
     "data": {
      "image/png": "[encoded data removed]",
      "text/plain": [
       "<Figure size 432x288 with 1 Axes>"
      ]
     },
     "metadata": {},
     "output_type": "display_data"
    }
   ],
   "source": [
    "labels= data_grp.index\n",
    "size = data_grp['perc']\n",
    "explode = [0.1 if x == max(size) else 0 for x in size]\n",
    "colors = ['#FF8080' if x == max(size) else NORMAL_COLORS[randint(0, len(NORMAL_COLORS)-1)] for x in size]\n",
    "pie_chart(size, explode, labels, colors) # Строим график"
   ]
  },
  {
   "cell_type": "markdown",
   "id": "ec0721fc",
   "metadata": {
    "deletable": false,
    "id": "b4bb2ce6"
   },
   "source": [
    "**Вывод:** "
   ]
  },
  {
   "cell_type": "markdown",
   "id": "58818d4c",
   "metadata": {},
   "source": [
    "Больше всего должников находится среди тех, кто покупает покупает автомобиль или пытается получить образование. Если все это сводить к нашей реальности, то цены как на автомобили, так и на образование очень сильно взлетели, поэтому заемщики чаще просро"
   ]
  },
  {
   "cell_type": "markdown",
   "id": "a71e530d",
   "metadata": {
    "deletable": false,
    "editable": false,
    "id": "09c3ac4c"
   },
   "source": [
    "#### 3.5 Приведите возможные причины появления пропусков в исходных данных."
   ]
  },
  {
   "cell_type": "markdown",
   "id": "f0229d60",
   "metadata": {
    "deletable": false,
    "id": "9da2ceda"
   },
   "source": [
    "*Ответ:* \n",
    "вероятнее всего в источнике, откуда забирались, данные либо изначально были ошибки, либо получилась несостыковка с типами данных при их выкачивании, что в процессе обработки привело к NAN-значениям\n"
   ]
  },
  {
   "cell_type": "markdown",
   "id": "072a493d",
   "metadata": {
    "deletable": false,
    "editable": false,
    "id": "7b0487d6"
   },
   "source": [
    "#### 3.6 Объясните, почему заполнить пропуски медианным значением — лучшее решение для количественных переменных."
   ]
  },
  {
   "cell_type": "markdown",
   "id": "232b3a80",
   "metadata": {
    "deletable": false,
    "id": "7ecf2b8e"
   },
   "source": [
    "*Ответ:* \n",
    "так как медианное значение более показательное и информативное, чем среднее, так как в случае наличия аномальных значений (дисперсия которых кратно велика в сравнении с остальными значениями дисперсий в выборке), то они могут внести неточности в измерении реального среднего значения"
   ]
  },
  {
   "cell_type": "markdown",
   "id": "55ac1cc3",
   "metadata": {
    "deletable": false,
    "editable": false,
    "id": "6db5255a"
   },
   "source": [
    "### Шаг 4: общий вывод."
   ]
  },
  {
   "cell_type": "markdown",
   "id": "b5dd2442",
   "metadata": {
    "deletable": false,
    "id": "bad65432"
   },
   "source": [
    "Напишите ваш общий вывод."
   ]
  },
  {
   "cell_type": "markdown",
   "id": "466a3414",
   "metadata": {},
   "source": [
    "1. Люди с детьми гораздо чаще не возвращают кредиты вовремя;\n",
    "\n",
    "2. Если сравнивать по семейному статусу, то люди холостые или не офицально состоящие в браке чаще не просрачивают выплаты;\n",
    "\n",
    "3. Люди, имеющие маленький доход, чаще имеют задолженности по кредитам;\n",
    "\n",
    "4. Если цель человека - купить авто или получить образование, то он может просрочить оплату кредита\n",
    "\n",
    "В качестве рекомендации:\n",
    "\n",
    "если человек с ребенком и не состоит в официальном браке работает на низкооплачиваемой работе и хочет купить автомобиль, то ему не стоит выдавать кредит :)\n"
   ]
  }
 ],
 "metadata": {
  "ExecuteTimeLog": [
   {
    "duration": 1326,
    "start_time": "2024-01-02T17:53:23.870Z"
   },
   {
    "duration": 81,
    "start_time": "2024-01-02T17:59:30.869Z"
   },
   {
    "duration": 20,
    "start_time": "2024-01-02T17:59:30.952Z"
   },
   {
    "duration": 47,
    "start_time": "2024-01-02T17:59:30.974Z"
   },
   {
    "duration": 36,
    "start_time": "2024-01-02T17:59:31.023Z"
   },
   {
    "duration": 94,
    "start_time": "2024-01-02T17:59:31.060Z"
   },
   {
    "duration": 40,
    "start_time": "2024-01-02T17:59:31.155Z"
   },
   {
    "duration": 44,
    "start_time": "2024-01-02T17:59:31.196Z"
   },
   {
    "duration": 18,
    "start_time": "2024-01-02T17:59:31.242Z"
   },
   {
    "duration": 25,
    "start_time": "2024-01-02T17:59:31.261Z"
   },
   {
    "duration": 26,
    "start_time": "2024-01-02T17:59:31.289Z"
   },
   {
    "duration": 114,
    "start_time": "2024-01-02T17:59:31.317Z"
   },
   {
    "duration": 23,
    "start_time": "2024-01-02T17:59:31.432Z"
   },
   {
    "duration": 22,
    "start_time": "2024-01-02T17:59:31.457Z"
   },
   {
    "duration": 26,
    "start_time": "2024-01-02T17:59:31.481Z"
   },
   {
    "duration": 49,
    "start_time": "2024-01-02T17:59:31.509Z"
   },
   {
    "duration": 18,
    "start_time": "2024-01-02T17:59:31.560Z"
   },
   {
    "duration": 4,
    "start_time": "2024-01-02T17:59:31.579Z"
   },
   {
    "duration": 24,
    "start_time": "2024-01-02T17:59:31.584Z"
   },
   {
    "duration": 18,
    "start_time": "2024-01-02T17:59:31.609Z"
   },
   {
    "duration": 9,
    "start_time": "2024-01-02T17:59:31.629Z"
   },
   {
    "duration": 9,
    "start_time": "2024-01-02T17:59:33.236Z"
   },
   {
    "duration": 80,
    "start_time": "2024-01-03T06:26:13.124Z"
   },
   {
    "duration": 16,
    "start_time": "2024-01-03T06:26:13.206Z"
   },
   {
    "duration": 20,
    "start_time": "2024-01-03T06:26:13.224Z"
   },
   {
    "duration": 15,
    "start_time": "2024-01-03T06:26:13.245Z"
   },
   {
    "duration": 36,
    "start_time": "2024-01-03T06:26:13.262Z"
   },
   {
    "duration": 3,
    "start_time": "2024-01-03T06:26:13.300Z"
   },
   {
    "duration": 7,
    "start_time": "2024-01-03T06:26:13.323Z"
   },
   {
    "duration": 4,
    "start_time": "2024-01-03T06:26:13.332Z"
   },
   {
    "duration": 13,
    "start_time": "2024-01-03T06:26:13.337Z"
   },
   {
    "duration": 9,
    "start_time": "2024-01-03T06:26:13.351Z"
   },
   {
    "duration": 41,
    "start_time": "2024-01-03T06:26:13.362Z"
   },
   {
    "duration": 26,
    "start_time": "2024-01-03T06:26:13.404Z"
   },
   {
    "duration": 4,
    "start_time": "2024-01-03T06:26:13.431Z"
   },
   {
    "duration": 11,
    "start_time": "2024-01-03T06:26:13.438Z"
   },
   {
    "duration": 23,
    "start_time": "2024-01-03T06:26:13.451Z"
   },
   {
    "duration": 52,
    "start_time": "2024-01-03T06:26:13.476Z"
   },
   {
    "duration": 3,
    "start_time": "2024-01-03T06:26:13.530Z"
   },
   {
    "duration": 13,
    "start_time": "2024-01-03T06:26:13.535Z"
   },
   {
    "duration": 8,
    "start_time": "2024-01-03T06:26:13.550Z"
   },
   {
    "duration": 4,
    "start_time": "2024-01-03T06:26:13.559Z"
   },
   {
    "duration": 14,
    "start_time": "2024-01-03T06:26:13.564Z"
   },
   {
    "duration": 3,
    "start_time": "2024-01-03T06:26:15.059Z"
   },
   {
    "duration": 5,
    "start_time": "2024-01-03T06:26:39.995Z"
   },
   {
    "duration": 2,
    "start_time": "2024-01-03T06:39:29.295Z"
   },
   {
    "duration": 8,
    "start_time": "2024-01-03T06:41:35.254Z"
   },
   {
    "duration": 14,
    "start_time": "2024-01-03T06:43:28.137Z"
   },
   {
    "duration": 9,
    "start_time": "2024-01-03T06:43:46.705Z"
   },
   {
    "duration": 7,
    "start_time": "2024-01-03T06:44:06.292Z"
   },
   {
    "duration": 10,
    "start_time": "2024-01-03T06:44:06.753Z"
   },
   {
    "duration": 6,
    "start_time": "2024-01-03T06:44:07.362Z"
   },
   {
    "duration": 14,
    "start_time": "2024-01-03T06:44:30.633Z"
   },
   {
    "duration": 3,
    "start_time": "2024-01-03T06:44:44.475Z"
   },
   {
    "duration": 12,
    "start_time": "2024-01-03T06:44:45.390Z"
   },
   {
    "duration": 13,
    "start_time": "2024-01-03T06:44:46.047Z"
   },
   {
    "duration": 10,
    "start_time": "2024-01-03T06:44:50.234Z"
   },
   {
    "duration": 6,
    "start_time": "2024-01-03T06:44:50.858Z"
   },
   {
    "duration": 9,
    "start_time": "2024-01-03T06:49:16.848Z"
   },
   {
    "duration": 6,
    "start_time": "2024-01-03T06:49:21.205Z"
   },
   {
    "duration": 14,
    "start_time": "2024-01-03T06:51:06.150Z"
   },
   {
    "duration": 107,
    "start_time": "2024-01-03T06:53:39.720Z"
   },
   {
    "duration": 23,
    "start_time": "2024-01-03T06:53:45.080Z"
   },
   {
    "duration": 7,
    "start_time": "2024-01-03T06:54:48.630Z"
   },
   {
    "duration": 8,
    "start_time": "2024-01-03T07:30:48.520Z"
   },
   {
    "duration": 876,
    "start_time": "2024-01-03T07:31:26.522Z"
   },
   {
    "duration": 75,
    "start_time": "2024-01-03T07:33:16.792Z"
   },
   {
    "duration": 16,
    "start_time": "2024-01-03T07:33:16.868Z"
   },
   {
    "duration": 26,
    "start_time": "2024-01-03T07:33:16.886Z"
   },
   {
    "duration": 16,
    "start_time": "2024-01-03T07:33:16.915Z"
   },
   {
    "duration": 52,
    "start_time": "2024-01-03T07:33:16.932Z"
   },
   {
    "duration": 3,
    "start_time": "2024-01-03T07:33:16.986Z"
   },
   {
    "duration": 11,
    "start_time": "2024-01-03T07:33:16.991Z"
   },
   {
    "duration": 4,
    "start_time": "2024-01-03T07:33:17.003Z"
   },
   {
    "duration": 17,
    "start_time": "2024-01-03T07:33:17.009Z"
   },
   {
    "duration": 5,
    "start_time": "2024-01-03T07:33:17.028Z"
   },
   {
    "duration": 42,
    "start_time": "2024-01-03T07:33:17.034Z"
   },
   {
    "duration": 11,
    "start_time": "2024-01-03T07:33:17.078Z"
   },
   {
    "duration": 4,
    "start_time": "2024-01-03T07:33:17.090Z"
   },
   {
    "duration": 41,
    "start_time": "2024-01-03T07:33:17.096Z"
   },
   {
    "duration": 28,
    "start_time": "2024-01-03T07:33:17.140Z"
   },
   {
    "duration": 19,
    "start_time": "2024-01-03T07:33:17.169Z"
   },
   {
    "duration": 10,
    "start_time": "2024-01-03T07:33:17.189Z"
   },
   {
    "duration": 27,
    "start_time": "2024-01-03T07:33:17.200Z"
   },
   {
    "duration": 11,
    "start_time": "2024-01-03T07:33:17.229Z"
   },
   {
    "duration": 14,
    "start_time": "2024-01-03T07:33:17.242Z"
   },
   {
    "duration": 23,
    "start_time": "2024-01-03T07:33:17.258Z"
   },
   {
    "duration": 17,
    "start_time": "2024-01-03T07:33:17.282Z"
   },
   {
    "duration": 17,
    "start_time": "2024-01-03T07:33:17.300Z"
   },
   {
    "duration": 16,
    "start_time": "2024-01-03T07:33:17.319Z"
   },
   {
    "duration": 3,
    "start_time": "2024-01-03T07:33:18.722Z"
   },
   {
    "duration": 11,
    "start_time": "2024-01-03T07:33:19.721Z"
   },
   {
    "duration": 16,
    "start_time": "2024-01-03T07:33:20.712Z"
   },
   {
    "duration": 6,
    "start_time": "2024-01-03T07:33:21.643Z"
   },
   {
    "duration": 2811,
    "start_time": "2024-01-03T07:33:31.767Z"
   },
   {
    "duration": 10,
    "start_time": "2024-01-03T07:35:56.619Z"
   },
   {
    "duration": 7,
    "start_time": "2024-01-03T07:36:58.763Z"
   },
   {
    "duration": 5,
    "start_time": "2024-01-03T07:38:54.895Z"
   },
   {
    "duration": 934,
    "start_time": "2024-01-03T07:39:11.750Z"
   },
   {
    "duration": 5,
    "start_time": "2024-01-03T07:42:43.326Z"
   },
   {
    "duration": 16,
    "start_time": "2024-01-03T07:55:28.019Z"
   },
   {
    "duration": 16,
    "start_time": "2024-01-03T07:55:32.156Z"
   },
   {
    "duration": 8,
    "start_time": "2024-01-03T07:55:54.544Z"
   },
   {
    "duration": 4,
    "start_time": "2024-01-03T07:55:58.108Z"
   },
   {
    "duration": 22,
    "start_time": "2024-01-03T07:56:09.347Z"
   },
   {
    "duration": 24,
    "start_time": "2024-01-03T07:56:33.637Z"
   },
   {
    "duration": 14,
    "start_time": "2024-01-03T07:56:44.485Z"
   },
   {
    "duration": 17,
    "start_time": "2024-01-03T08:14:31.481Z"
   },
   {
    "duration": 12,
    "start_time": "2024-01-03T08:15:07.096Z"
   },
   {
    "duration": 3,
    "start_time": "2024-01-03T08:20:18.912Z"
   },
   {
    "duration": 4,
    "start_time": "2024-01-03T08:21:55.229Z"
   },
   {
    "duration": 4,
    "start_time": "2024-01-03T08:24:40.844Z"
   },
   {
    "duration": 5,
    "start_time": "2024-01-03T08:27:57.224Z"
   },
   {
    "duration": 10,
    "start_time": "2024-01-03T08:34:50.418Z"
   },
   {
    "duration": 2,
    "start_time": "2024-01-03T08:35:12.498Z"
   },
   {
    "duration": 4,
    "start_time": "2024-01-03T08:35:15.800Z"
   },
   {
    "duration": 159,
    "start_time": "2024-01-03T08:36:18.318Z"
   },
   {
    "duration": 136,
    "start_time": "2024-01-03T08:38:11.964Z"
   },
   {
    "duration": 131,
    "start_time": "2024-01-03T08:39:38.080Z"
   },
   {
    "duration": 141,
    "start_time": "2024-01-03T08:39:43.214Z"
   },
   {
    "duration": 140,
    "start_time": "2024-01-03T08:41:17.794Z"
   },
   {
    "duration": 129,
    "start_time": "2024-01-03T08:44:24.275Z"
   },
   {
    "duration": 135,
    "start_time": "2024-01-03T08:44:30.863Z"
   },
   {
    "duration": 133,
    "start_time": "2024-01-03T08:44:36.431Z"
   },
   {
    "duration": 134,
    "start_time": "2024-01-03T08:44:47.059Z"
   },
   {
    "duration": 12,
    "start_time": "2024-01-03T08:59:37.323Z"
   },
   {
    "duration": 209,
    "start_time": "2024-01-03T08:59:44.971Z"
   },
   {
    "duration": 140,
    "start_time": "2024-01-03T09:49:37.761Z"
   },
   {
    "duration": 3,
    "start_time": "2024-01-03T09:51:46.438Z"
   },
   {
    "duration": 2,
    "start_time": "2024-01-03T09:51:48.994Z"
   },
   {
    "duration": 5,
    "start_time": "2024-01-03T09:51:50.604Z"
   },
   {
    "duration": 6,
    "start_time": "2024-01-03T09:52:14.109Z"
   },
   {
    "duration": 5,
    "start_time": "2024-01-03T09:52:22.605Z"
   },
   {
    "duration": 1171,
    "start_time": "2024-01-03T09:53:01.155Z"
   },
   {
    "duration": 6,
    "start_time": "2024-01-03T09:53:07.219Z"
   },
   {
    "duration": 1153,
    "start_time": "2024-01-03T09:56:35.489Z"
   },
   {
    "duration": 16,
    "start_time": "2024-01-03T09:56:52.480Z"
   },
   {
    "duration": 9,
    "start_time": "2024-01-03T09:57:04.802Z"
   },
   {
    "duration": 5,
    "start_time": "2024-01-03T09:57:24.690Z"
   },
   {
    "duration": 22,
    "start_time": "2024-01-03T09:57:32.460Z"
   },
   {
    "duration": 1092,
    "start_time": "2024-01-03T09:57:51.270Z"
   },
   {
    "duration": 33,
    "start_time": "2024-01-03T09:58:15.210Z"
   },
   {
    "duration": 33,
    "start_time": "2024-01-03T09:58:17.252Z"
   },
   {
    "duration": 31,
    "start_time": "2024-01-03T09:58:31.591Z"
   },
   {
    "duration": 13,
    "start_time": "2024-01-03T10:23:26.187Z"
   },
   {
    "duration": 8,
    "start_time": "2024-01-03T10:23:51.802Z"
   },
   {
    "duration": 10,
    "start_time": "2024-01-03T10:24:28.518Z"
   },
   {
    "duration": 21,
    "start_time": "2024-01-03T10:26:36.480Z"
   },
   {
    "duration": 90,
    "start_time": "2024-01-03T10:27:18.459Z"
   },
   {
    "duration": 31,
    "start_time": "2024-01-03T10:27:23.171Z"
   },
   {
    "duration": 17,
    "start_time": "2024-01-03T10:28:12.270Z"
   },
   {
    "duration": 4,
    "start_time": "2024-01-03T10:31:04.105Z"
   },
   {
    "duration": 8,
    "start_time": "2024-01-03T10:35:04.149Z"
   },
   {
    "duration": 10,
    "start_time": "2024-01-03T10:37:10.177Z"
   },
   {
    "duration": 34,
    "start_time": "2024-01-03T11:03:14.871Z"
   },
   {
    "duration": 22,
    "start_time": "2024-01-03T11:03:35.510Z"
   },
   {
    "duration": 29,
    "start_time": "2024-01-03T11:05:57.176Z"
   },
   {
    "duration": 42,
    "start_time": "2024-01-03T11:09:36.044Z"
   },
   {
    "duration": 10,
    "start_time": "2024-01-03T11:13:38.582Z"
   },
   {
    "duration": 24,
    "start_time": "2024-01-03T11:13:51.045Z"
   },
   {
    "duration": 42,
    "start_time": "2024-01-03T11:13:52.306Z"
   },
   {
    "duration": 46,
    "start_time": "2024-01-03T11:13:58.852Z"
   },
   {
    "duration": 3,
    "start_time": "2024-01-03T11:13:59.869Z"
   },
   {
    "duration": 8,
    "start_time": "2024-01-03T11:17:00.576Z"
   },
   {
    "duration": 5,
    "start_time": "2024-01-03T11:30:28.497Z"
   },
   {
    "duration": 6,
    "start_time": "2024-01-03T11:30:46.629Z"
   },
   {
    "duration": 9,
    "start_time": "2024-01-03T11:30:47.177Z"
   },
   {
    "duration": 4,
    "start_time": "2024-01-03T11:32:55.665Z"
   },
   {
    "duration": 7,
    "start_time": "2024-01-03T11:32:56.970Z"
   },
   {
    "duration": 169,
    "start_time": "2024-01-03T11:33:05.519Z"
   },
   {
    "duration": 79,
    "start_time": "2024-01-03T11:36:24.006Z"
   },
   {
    "duration": 5,
    "start_time": "2024-01-03T11:36:42.662Z"
   },
   {
    "duration": 6,
    "start_time": "2024-01-03T11:36:50.569Z"
   },
   {
    "duration": 7,
    "start_time": "2024-01-03T11:42:31.863Z"
   },
   {
    "duration": 6,
    "start_time": "2024-01-03T11:42:38.034Z"
   },
   {
    "duration": 6,
    "start_time": "2024-01-03T11:42:49.077Z"
   },
   {
    "duration": 23,
    "start_time": "2024-01-03T13:43:13.359Z"
   },
   {
    "duration": 19,
    "start_time": "2024-01-03T13:44:04.159Z"
   },
   {
    "duration": 100,
    "start_time": "2024-01-03T13:52:48.457Z"
   },
   {
    "duration": 102,
    "start_time": "2024-01-03T13:53:06.234Z"
   },
   {
    "duration": 99,
    "start_time": "2024-01-03T13:53:39.333Z"
   },
   {
    "duration": 101,
    "start_time": "2024-01-03T13:56:25.081Z"
   },
   {
    "duration": 72,
    "start_time": "2024-01-03T13:56:34.421Z"
   },
   {
    "duration": 79,
    "start_time": "2024-01-03T13:57:12.789Z"
   },
   {
    "duration": 88,
    "start_time": "2024-01-03T13:59:02.550Z"
   },
   {
    "duration": 112,
    "start_time": "2024-01-03T13:59:10.105Z"
   },
   {
    "duration": 111,
    "start_time": "2024-01-03T13:59:31.266Z"
   },
   {
    "duration": 109,
    "start_time": "2024-01-03T13:59:39.971Z"
   },
   {
    "duration": 117,
    "start_time": "2024-01-03T13:59:43.278Z"
   },
   {
    "duration": 107,
    "start_time": "2024-01-03T14:00:49.934Z"
   },
   {
    "duration": 112,
    "start_time": "2024-01-03T14:01:02.309Z"
   },
   {
    "duration": 214,
    "start_time": "2024-01-03T14:01:10.914Z"
   },
   {
    "duration": 112,
    "start_time": "2024-01-03T14:01:24.549Z"
   },
   {
    "duration": 140,
    "start_time": "2024-01-03T14:01:28.415Z"
   },
   {
    "duration": 118,
    "start_time": "2024-01-03T14:01:34.213Z"
   },
   {
    "duration": 119,
    "start_time": "2024-01-03T14:01:38.322Z"
   },
   {
    "duration": 113,
    "start_time": "2024-01-03T14:02:42.350Z"
   },
   {
    "duration": 109,
    "start_time": "2024-01-03T14:02:48.029Z"
   },
   {
    "duration": 117,
    "start_time": "2024-01-03T14:02:53.384Z"
   },
   {
    "duration": 112,
    "start_time": "2024-01-03T14:02:56.274Z"
   },
   {
    "duration": 132,
    "start_time": "2024-01-03T14:03:14.742Z"
   },
   {
    "duration": 108,
    "start_time": "2024-01-03T14:04:34.076Z"
   },
   {
    "duration": 176,
    "start_time": "2024-01-03T14:04:37.439Z"
   },
   {
    "duration": 124,
    "start_time": "2024-01-03T14:04:41.890Z"
   },
   {
    "duration": 130,
    "start_time": "2024-01-03T14:04:44.802Z"
   },
   {
    "duration": 114,
    "start_time": "2024-01-03T14:04:47.980Z"
   },
   {
    "duration": 108,
    "start_time": "2024-01-03T14:04:51.764Z"
   },
   {
    "duration": 115,
    "start_time": "2024-01-03T14:06:45.788Z"
   },
   {
    "duration": 115,
    "start_time": "2024-01-03T14:06:49.034Z"
   },
   {
    "duration": 231,
    "start_time": "2024-01-03T14:07:28.694Z"
   },
   {
    "duration": 147,
    "start_time": "2024-01-03T14:07:34.778Z"
   },
   {
    "duration": 132,
    "start_time": "2024-01-03T14:07:37.297Z"
   },
   {
    "duration": 4,
    "start_time": "2024-01-03T14:14:10.639Z"
   },
   {
    "duration": 4,
    "start_time": "2024-01-03T14:14:21.846Z"
   },
   {
    "duration": 3,
    "start_time": "2024-01-03T14:14:26.154Z"
   },
   {
    "duration": 124,
    "start_time": "2024-01-03T14:15:03.719Z"
   },
   {
    "duration": 177,
    "start_time": "2024-01-03T14:15:07.279Z"
   },
   {
    "duration": 128,
    "start_time": "2024-01-03T14:15:09.445Z"
   },
   {
    "duration": 17,
    "start_time": "2024-01-03T14:15:17.212Z"
   },
   {
    "duration": 15,
    "start_time": "2024-01-03T14:15:21.113Z"
   },
   {
    "duration": 16,
    "start_time": "2024-01-03T14:15:22.283Z"
   },
   {
    "duration": 116,
    "start_time": "2024-01-03T14:15:45.947Z"
   },
   {
    "duration": 121,
    "start_time": "2024-01-03T14:15:51.563Z"
   },
   {
    "duration": 142,
    "start_time": "2024-01-03T14:15:52.314Z"
   },
   {
    "duration": 110,
    "start_time": "2024-01-03T14:15:53.717Z"
   },
   {
    "duration": 16,
    "start_time": "2024-01-03T14:15:55.480Z"
   },
   {
    "duration": 119,
    "start_time": "2024-01-03T14:15:57.165Z"
   },
   {
    "duration": 15,
    "start_time": "2024-01-03T14:15:58.368Z"
   },
   {
    "duration": 111,
    "start_time": "2024-01-03T14:16:10.789Z"
   },
   {
    "duration": 112,
    "start_time": "2024-01-03T14:16:13.024Z"
   },
   {
    "duration": 112,
    "start_time": "2024-01-03T14:16:13.799Z"
   },
   {
    "duration": 112,
    "start_time": "2024-01-03T14:16:14.436Z"
   },
   {
    "duration": 115,
    "start_time": "2024-01-03T14:16:15.039Z"
   },
   {
    "duration": 217,
    "start_time": "2024-01-03T14:16:15.649Z"
   },
   {
    "duration": 115,
    "start_time": "2024-01-03T14:16:17.254Z"
   },
   {
    "duration": 119,
    "start_time": "2024-01-03T14:16:20.123Z"
   },
   {
    "duration": 122,
    "start_time": "2024-01-03T14:16:40.110Z"
   },
   {
    "duration": 134,
    "start_time": "2024-01-03T14:16:41.241Z"
   },
   {
    "duration": 112,
    "start_time": "2024-01-03T14:16:42.242Z"
   },
   {
    "duration": 125,
    "start_time": "2024-01-03T14:16:43.413Z"
   },
   {
    "duration": 115,
    "start_time": "2024-01-03T14:16:44.654Z"
   },
   {
    "duration": 108,
    "start_time": "2024-01-03T14:16:46.660Z"
   },
   {
    "duration": 104,
    "start_time": "2024-01-03T14:18:03.878Z"
   },
   {
    "duration": 104,
    "start_time": "2024-01-03T14:18:14.976Z"
   },
   {
    "duration": 108,
    "start_time": "2024-01-03T14:18:23.429Z"
   },
   {
    "duration": 101,
    "start_time": "2024-01-03T14:18:31.681Z"
   },
   {
    "duration": 103,
    "start_time": "2024-01-03T14:18:35.402Z"
   },
   {
    "duration": 96,
    "start_time": "2024-01-03T14:18:37.697Z"
   },
   {
    "duration": 160,
    "start_time": "2024-01-03T14:18:41.823Z"
   },
   {
    "duration": 99,
    "start_time": "2024-01-03T14:18:43.559Z"
   },
   {
    "duration": 3,
    "start_time": "2024-01-03T14:22:54.810Z"
   },
   {
    "duration": 4,
    "start_time": "2024-01-03T14:23:05.518Z"
   },
   {
    "duration": 4,
    "start_time": "2024-01-03T14:23:10.689Z"
   },
   {
    "duration": 8,
    "start_time": "2024-01-03T14:23:14.288Z"
   },
   {
    "duration": 2,
    "start_time": "2024-01-03T14:23:25.639Z"
   },
   {
    "duration": 3,
    "start_time": "2024-01-03T14:23:30.650Z"
   },
   {
    "duration": 9,
    "start_time": "2024-01-03T14:23:34.116Z"
   },
   {
    "duration": 8,
    "start_time": "2024-01-03T14:23:38.744Z"
   },
   {
    "duration": 4,
    "start_time": "2024-01-03T14:24:32.148Z"
   },
   {
    "duration": 3,
    "start_time": "2024-01-03T14:24:38.945Z"
   },
   {
    "duration": 4,
    "start_time": "2024-01-03T14:25:20.726Z"
   },
   {
    "duration": 209,
    "start_time": "2024-01-03T14:26:26.856Z"
   },
   {
    "duration": 103,
    "start_time": "2024-01-03T14:26:28.389Z"
   },
   {
    "duration": 116,
    "start_time": "2024-01-03T14:26:29.279Z"
   },
   {
    "duration": 116,
    "start_time": "2024-01-03T14:26:30.010Z"
   },
   {
    "duration": 128,
    "start_time": "2024-01-03T14:26:30.637Z"
   },
   {
    "duration": 120,
    "start_time": "2024-01-03T14:26:31.222Z"
   },
   {
    "duration": 99,
    "start_time": "2024-01-03T14:26:31.796Z"
   },
   {
    "duration": 102,
    "start_time": "2024-01-03T14:26:32.351Z"
   },
   {
    "duration": 100,
    "start_time": "2024-01-03T14:26:32.930Z"
   },
   {
    "duration": 112,
    "start_time": "2024-01-03T14:26:33.468Z"
   },
   {
    "duration": 101,
    "start_time": "2024-01-03T14:26:34.025Z"
   },
   {
    "duration": 109,
    "start_time": "2024-01-03T14:26:35.973Z"
   },
   {
    "duration": 178,
    "start_time": "2024-01-03T14:29:19.721Z"
   },
   {
    "duration": 181,
    "start_time": "2024-01-03T14:29:23.446Z"
   },
   {
    "duration": 110,
    "start_time": "2024-01-03T14:29:28.227Z"
   },
   {
    "duration": 292,
    "start_time": "2024-01-03T14:29:32.902Z"
   },
   {
    "duration": 190,
    "start_time": "2024-01-03T14:29:37.116Z"
   },
   {
    "duration": 167,
    "start_time": "2024-01-03T14:29:44.233Z"
   },
   {
    "duration": 191,
    "start_time": "2024-01-03T14:29:49.583Z"
   },
   {
    "duration": 194,
    "start_time": "2024-01-03T14:29:55.587Z"
   },
   {
    "duration": 198,
    "start_time": "2024-01-03T14:30:18.682Z"
   },
   {
    "duration": 193,
    "start_time": "2024-01-03T14:30:33.840Z"
   },
   {
    "duration": 197,
    "start_time": "2024-01-03T14:30:36.117Z"
   },
   {
    "duration": 199,
    "start_time": "2024-01-03T14:31:00.834Z"
   },
   {
    "duration": 166,
    "start_time": "2024-01-03T14:31:57.679Z"
   },
   {
    "duration": 124,
    "start_time": "2024-01-03T14:32:01.129Z"
   },
   {
    "duration": 283,
    "start_time": "2024-01-03T14:32:12.000Z"
   },
   {
    "duration": 105,
    "start_time": "2024-01-03T14:33:41.547Z"
   },
   {
    "duration": 180,
    "start_time": "2024-01-03T14:33:55.762Z"
   },
   {
    "duration": 107,
    "start_time": "2024-01-03T14:34:06.461Z"
   },
   {
    "duration": 132,
    "start_time": "2024-01-03T14:34:11.048Z"
   },
   {
    "duration": 108,
    "start_time": "2024-01-03T14:34:27.375Z"
   },
   {
    "duration": 124,
    "start_time": "2024-01-03T14:34:32.471Z"
   },
   {
    "duration": 119,
    "start_time": "2024-01-03T14:34:36.111Z"
   },
   {
    "duration": 105,
    "start_time": "2024-01-03T14:34:38.097Z"
   },
   {
    "duration": 104,
    "start_time": "2024-01-03T14:34:47.002Z"
   },
   {
    "duration": 112,
    "start_time": "2024-01-03T14:35:17.573Z"
   },
   {
    "duration": 3,
    "start_time": "2024-01-03T14:44:09.265Z"
   },
   {
    "duration": 2,
    "start_time": "2024-01-03T14:44:23.728Z"
   },
   {
    "duration": 30,
    "start_time": "2024-01-03T14:46:21.098Z"
   },
   {
    "duration": 21,
    "start_time": "2024-01-03T14:46:27.263Z"
   },
   {
    "duration": 14,
    "start_time": "2024-01-03T14:46:33.317Z"
   },
   {
    "duration": 8,
    "start_time": "2024-01-03T14:58:10.974Z"
   },
   {
    "duration": 22,
    "start_time": "2024-01-03T14:58:50.423Z"
   },
   {
    "duration": 3,
    "start_time": "2024-01-03T14:58:51.018Z"
   },
   {
    "duration": 11,
    "start_time": "2024-01-03T14:58:52.021Z"
   },
   {
    "duration": 3,
    "start_time": "2024-01-03T15:02:34.431Z"
   },
   {
    "duration": 3,
    "start_time": "2024-01-03T15:05:53.531Z"
   },
   {
    "duration": 107,
    "start_time": "2024-01-03T15:05:58.485Z"
   },
   {
    "duration": 138,
    "start_time": "2024-01-03T15:06:12.986Z"
   },
   {
    "duration": 124,
    "start_time": "2024-01-03T15:07:34.153Z"
   },
   {
    "duration": 34,
    "start_time": "2024-01-03T15:08:53.879Z"
   },
   {
    "duration": 18,
    "start_time": "2024-01-03T15:08:55.137Z"
   },
   {
    "duration": 3,
    "start_time": "2024-01-03T15:09:25.338Z"
   },
   {
    "duration": 6,
    "start_time": "2024-01-03T15:09:25.921Z"
   },
   {
    "duration": 8,
    "start_time": "2024-01-03T15:09:42.822Z"
   },
   {
    "duration": 128,
    "start_time": "2024-01-03T15:16:01.892Z"
   },
   {
    "duration": 24,
    "start_time": "2024-01-03T15:25:15.208Z"
   },
   {
    "duration": 29,
    "start_time": "2024-01-03T15:29:05.930Z"
   },
   {
    "duration": 37,
    "start_time": "2024-01-03T15:29:40.533Z"
   },
   {
    "duration": 17,
    "start_time": "2024-01-03T15:29:50.201Z"
   },
   {
    "duration": 29,
    "start_time": "2024-01-03T15:29:52.225Z"
   },
   {
    "duration": 4,
    "start_time": "2024-01-03T15:31:09.494Z"
   },
   {
    "duration": 8,
    "start_time": "2024-01-03T15:32:09.512Z"
   },
   {
    "duration": 119,
    "start_time": "2024-01-03T15:33:49.737Z"
   },
   {
    "duration": 139,
    "start_time": "2024-01-03T15:33:52.886Z"
   },
   {
    "duration": 9,
    "start_time": "2024-01-03T15:39:06.349Z"
   },
   {
    "duration": 123,
    "start_time": "2024-01-03T15:40:55.094Z"
   },
   {
    "duration": 8,
    "start_time": "2024-01-03T15:41:17.664Z"
   },
   {
    "duration": 8,
    "start_time": "2024-01-03T15:41:32.178Z"
   },
   {
    "duration": 7,
    "start_time": "2024-01-03T15:42:18.084Z"
   },
   {
    "duration": 9,
    "start_time": "2024-01-03T15:43:14.363Z"
   },
   {
    "duration": 8,
    "start_time": "2024-01-03T15:43:36.727Z"
   },
   {
    "duration": 2,
    "start_time": "2024-01-03T15:46:44.355Z"
   },
   {
    "duration": 105,
    "start_time": "2024-01-03T15:51:49.361Z"
   },
   {
    "duration": 79,
    "start_time": "2024-01-03T15:57:37.940Z"
   },
   {
    "duration": 20,
    "start_time": "2024-01-03T15:57:42.115Z"
   },
   {
    "duration": 18,
    "start_time": "2024-01-03T15:57:44.325Z"
   },
   {
    "duration": 11,
    "start_time": "2024-01-03T15:57:52.871Z"
   },
   {
    "duration": 106,
    "start_time": "2024-01-03T16:06:37.257Z"
   },
   {
    "duration": 93,
    "start_time": "2024-01-04T07:09:52.607Z"
   },
   {
    "duration": 82,
    "start_time": "2024-01-04T07:10:00.215Z"
   },
   {
    "duration": 142,
    "start_time": "2024-01-04T07:10:02.142Z"
   },
   {
    "duration": 125,
    "start_time": "2024-01-04T07:10:22.438Z"
   },
   {
    "duration": 84,
    "start_time": "2024-01-04T07:10:24.327Z"
   },
   {
    "duration": 75,
    "start_time": "2024-01-04T07:10:34.292Z"
   },
   {
    "duration": 89,
    "start_time": "2024-01-04T07:10:51.348Z"
   },
   {
    "duration": 118,
    "start_time": "2024-01-04T07:11:43.707Z"
   },
   {
    "duration": 72,
    "start_time": "2024-01-04T07:11:47.649Z"
   },
   {
    "duration": 84,
    "start_time": "2024-01-04T07:14:39.979Z"
   },
   {
    "duration": 91,
    "start_time": "2024-01-04T08:06:02.595Z"
   },
   {
    "duration": 4,
    "start_time": "2024-01-04T08:07:03.041Z"
   },
   {
    "duration": 45,
    "start_time": "2024-01-04T08:07:33.970Z"
   },
   {
    "duration": 704,
    "start_time": "2024-01-04T08:07:47.562Z"
   },
   {
    "duration": 21,
    "start_time": "2024-01-04T08:07:48.268Z"
   },
   {
    "duration": 18,
    "start_time": "2024-01-04T08:07:48.295Z"
   },
   {
    "duration": 9,
    "start_time": "2024-01-04T08:07:48.315Z"
   },
   {
    "duration": 54,
    "start_time": "2024-01-04T08:07:48.325Z"
   },
   {
    "duration": 3,
    "start_time": "2024-01-04T08:07:48.380Z"
   },
   {
    "duration": 24,
    "start_time": "2024-01-04T08:07:48.385Z"
   },
   {
    "duration": 14,
    "start_time": "2024-01-04T08:07:48.411Z"
   },
   {
    "duration": 13,
    "start_time": "2024-01-04T08:07:48.426Z"
   },
   {
    "duration": 4,
    "start_time": "2024-01-04T08:07:48.441Z"
   },
   {
    "duration": 33,
    "start_time": "2024-01-04T08:07:48.447Z"
   },
   {
    "duration": 9,
    "start_time": "2024-01-04T08:07:48.481Z"
   },
   {
    "duration": 3,
    "start_time": "2024-01-04T08:07:48.492Z"
   },
   {
    "duration": 29,
    "start_time": "2024-01-04T08:07:48.497Z"
   },
   {
    "duration": 19,
    "start_time": "2024-01-04T08:07:48.528Z"
   },
   {
    "duration": 19,
    "start_time": "2024-01-04T08:07:48.548Z"
   },
   {
    "duration": 4,
    "start_time": "2024-01-04T08:07:48.568Z"
   },
   {
    "duration": 12,
    "start_time": "2024-01-04T08:07:48.573Z"
   },
   {
    "duration": 8,
    "start_time": "2024-01-04T08:07:48.587Z"
   },
   {
    "duration": 21,
    "start_time": "2024-01-04T08:07:48.596Z"
   },
   {
    "duration": 9,
    "start_time": "2024-01-04T08:07:48.619Z"
   },
   {
    "duration": 5,
    "start_time": "2024-01-04T08:07:48.630Z"
   },
   {
    "duration": 930,
    "start_time": "2024-01-04T08:07:48.636Z"
   },
   {
    "duration": 11,
    "start_time": "2024-01-04T08:07:49.567Z"
   },
   {
    "duration": 26,
    "start_time": "2024-01-04T08:07:49.580Z"
   },
   {
    "duration": 26,
    "start_time": "2024-01-04T08:07:49.608Z"
   },
   {
    "duration": 32,
    "start_time": "2024-01-04T08:07:49.636Z"
   },
   {
    "duration": 70,
    "start_time": "2024-01-04T08:07:49.671Z"
   },
   {
    "duration": 35,
    "start_time": "2024-01-04T08:07:49.743Z"
   },
   {
    "duration": 20,
    "start_time": "2024-01-04T08:07:49.779Z"
   },
   {
    "duration": 59,
    "start_time": "2024-01-04T08:07:49.800Z"
   },
   {
    "duration": 35,
    "start_time": "2024-01-04T08:07:49.860Z"
   },
   {
    "duration": 33,
    "start_time": "2024-01-04T08:07:49.896Z"
   },
   {
    "duration": 34,
    "start_time": "2024-01-04T08:07:49.930Z"
   },
   {
    "duration": 161,
    "start_time": "2024-01-04T08:07:53.061Z"
   },
   {
    "duration": 12,
    "start_time": "2024-01-04T08:08:07.553Z"
   },
   {
    "duration": 4,
    "start_time": "2024-01-04T08:08:25.937Z"
   },
   {
    "duration": 96,
    "start_time": "2024-01-04T08:08:29.433Z"
   },
   {
    "duration": 95,
    "start_time": "2024-01-04T08:08:31.323Z"
   },
   {
    "duration": 93,
    "start_time": "2024-01-04T08:08:33.582Z"
   },
   {
    "duration": 11,
    "start_time": "2024-01-04T08:11:02.260Z"
   },
   {
    "duration": 10,
    "start_time": "2024-01-04T08:14:20.195Z"
   },
   {
    "duration": 14,
    "start_time": "2024-01-04T08:15:05.972Z"
   },
   {
    "duration": 4,
    "start_time": "2024-01-04T08:27:45.882Z"
   },
   {
    "duration": 7,
    "start_time": "2024-01-04T08:28:11.762Z"
   },
   {
    "duration": 6,
    "start_time": "2024-01-04T08:28:14.023Z"
   },
   {
    "duration": 3,
    "start_time": "2024-01-04T08:28:48.095Z"
   },
   {
    "duration": 8,
    "start_time": "2024-01-04T08:28:55.242Z"
   },
   {
    "duration": 3,
    "start_time": "2024-01-04T08:29:04.124Z"
   },
   {
    "duration": 4,
    "start_time": "2024-01-04T08:29:22.292Z"
   },
   {
    "duration": 10,
    "start_time": "2024-01-04T09:37:07.428Z"
   },
   {
    "duration": 12,
    "start_time": "2024-01-04T09:37:20.018Z"
   },
   {
    "duration": 9,
    "start_time": "2024-01-04T09:37:29.757Z"
   },
   {
    "duration": 1177,
    "start_time": "2024-01-04T09:37:45.782Z"
   },
   {
    "duration": 1278,
    "start_time": "2024-01-04T09:37:49.201Z"
   },
   {
    "duration": 8,
    "start_time": "2024-01-04T09:38:01.421Z"
   },
   {
    "duration": 8,
    "start_time": "2024-01-04T09:38:04.665Z"
   },
   {
    "duration": 9,
    "start_time": "2024-01-04T09:38:21.838Z"
   },
   {
    "duration": 14,
    "start_time": "2024-01-04T09:38:25.867Z"
   },
   {
    "duration": 1181,
    "start_time": "2024-01-04T09:38:38.600Z"
   },
   {
    "duration": 12,
    "start_time": "2024-01-04T09:38:43.943Z"
   },
   {
    "duration": 9,
    "start_time": "2024-01-04T09:39:03.058Z"
   },
   {
    "duration": 3,
    "start_time": "2024-01-04T09:40:16.784Z"
   },
   {
    "duration": 10,
    "start_time": "2024-01-04T09:40:58.227Z"
   },
   {
    "duration": 12,
    "start_time": "2024-01-04T09:43:14.449Z"
   },
   {
    "duration": 112,
    "start_time": "2024-01-04T09:43:40.794Z"
   },
   {
    "duration": 94,
    "start_time": "2024-01-04T09:43:51.220Z"
   },
   {
    "duration": 4,
    "start_time": "2024-01-04T09:44:24.638Z"
   },
   {
    "duration": 95,
    "start_time": "2024-01-04T09:44:29.172Z"
   },
   {
    "duration": 14,
    "start_time": "2024-01-04T09:50:59.289Z"
   },
   {
    "duration": 111,
    "start_time": "2024-01-04T09:51:15.203Z"
   },
   {
    "duration": 111,
    "start_time": "2024-01-04T09:52:48.688Z"
   },
   {
    "duration": 4,
    "start_time": "2024-01-04T09:52:49.841Z"
   },
   {
    "duration": 3,
    "start_time": "2024-01-04T09:52:55.081Z"
   },
   {
    "duration": 3,
    "start_time": "2024-01-04T09:52:58.656Z"
   },
   {
    "duration": 70,
    "start_time": "2024-01-04T10:04:04.285Z"
   },
   {
    "duration": 3,
    "start_time": "2024-01-04T10:07:19.213Z"
   },
   {
    "duration": 14,
    "start_time": "2024-01-04T10:08:07.304Z"
   },
   {
    "duration": 92,
    "start_time": "2024-01-04T10:08:15.772Z"
   },
   {
    "duration": 92,
    "start_time": "2024-01-04T10:08:46.342Z"
   },
   {
    "duration": 3,
    "start_time": "2024-01-04T10:33:57.400Z"
   },
   {
    "duration": 14,
    "start_time": "2024-01-04T10:34:33.053Z"
   },
   {
    "duration": 110,
    "start_time": "2024-01-04T10:34:43.598Z"
   },
   {
    "duration": 32,
    "start_time": "2024-01-04T10:42:05.174Z"
   },
   {
    "duration": 3,
    "start_time": "2024-01-04T11:01:58.026Z"
   },
   {
    "duration": 74,
    "start_time": "2024-01-04T11:02:23.055Z"
   },
   {
    "duration": 2,
    "start_time": "2024-01-04T11:02:53.351Z"
   },
   {
    "duration": 2,
    "start_time": "2024-01-04T11:03:11.830Z"
   },
   {
    "duration": 2,
    "start_time": "2024-01-04T11:03:16.258Z"
   },
   {
    "duration": 79,
    "start_time": "2024-01-04T11:04:19.582Z"
   },
   {
    "duration": 4,
    "start_time": "2024-01-04T16:20:09.621Z"
   },
   {
    "duration": 708,
    "start_time": "2024-01-04T16:23:20.865Z"
   },
   {
    "duration": 20,
    "start_time": "2024-01-04T16:23:21.575Z"
   },
   {
    "duration": 13,
    "start_time": "2024-01-04T16:23:21.596Z"
   },
   {
    "duration": 24,
    "start_time": "2024-01-04T16:23:21.611Z"
   },
   {
    "duration": 35,
    "start_time": "2024-01-04T16:23:21.636Z"
   },
   {
    "duration": 2,
    "start_time": "2024-01-04T16:23:21.673Z"
   },
   {
    "duration": 8,
    "start_time": "2024-01-04T16:23:21.677Z"
   },
   {
    "duration": 4,
    "start_time": "2024-01-04T16:23:21.686Z"
   },
   {
    "duration": 26,
    "start_time": "2024-01-04T16:23:21.691Z"
   },
   {
    "duration": 8,
    "start_time": "2024-01-04T16:23:21.718Z"
   },
   {
    "duration": 55,
    "start_time": "2024-01-04T16:23:21.728Z"
   },
   {
    "duration": 10,
    "start_time": "2024-01-04T16:23:21.784Z"
   },
   {
    "duration": 9,
    "start_time": "2024-01-04T16:23:21.795Z"
   },
   {
    "duration": 11,
    "start_time": "2024-01-04T16:23:21.807Z"
   },
   {
    "duration": 18,
    "start_time": "2024-01-04T16:23:21.820Z"
   },
   {
    "duration": 35,
    "start_time": "2024-01-04T16:23:21.840Z"
   },
   {
    "duration": 3,
    "start_time": "2024-01-04T16:23:21.876Z"
   },
   {
    "duration": 13,
    "start_time": "2024-01-04T16:23:21.881Z"
   },
   {
    "duration": 13,
    "start_time": "2024-01-04T16:23:21.896Z"
   },
   {
    "duration": 3,
    "start_time": "2024-01-04T16:23:21.910Z"
   },
   {
    "duration": 16,
    "start_time": "2024-01-04T16:23:21.915Z"
   },
   {
    "duration": 16,
    "start_time": "2024-01-04T16:23:21.932Z"
   },
   {
    "duration": 901,
    "start_time": "2024-01-04T16:23:21.965Z"
   },
   {
    "duration": 12,
    "start_time": "2024-01-04T16:23:22.867Z"
   },
   {
    "duration": 7,
    "start_time": "2024-01-04T16:23:22.881Z"
   },
   {
    "duration": 2,
    "start_time": "2024-01-04T16:23:22.890Z"
   },
   {
    "duration": 4,
    "start_time": "2024-01-04T16:23:22.894Z"
   },
   {
    "duration": 12,
    "start_time": "2024-01-04T16:23:22.899Z"
   },
   {
    "duration": 23,
    "start_time": "2024-01-04T16:23:22.913Z"
   },
   {
    "duration": 27,
    "start_time": "2024-01-04T16:23:22.938Z"
   },
   {
    "duration": 17,
    "start_time": "2024-01-04T16:23:22.967Z"
   },
   {
    "duration": 115,
    "start_time": "2024-01-04T16:23:22.986Z"
   },
   {
    "duration": 2,
    "start_time": "2024-01-04T16:23:23.103Z"
   },
   {
    "duration": 15,
    "start_time": "2024-01-04T16:23:23.106Z"
   },
   {
    "duration": 127,
    "start_time": "2024-01-04T16:23:23.122Z"
   },
   {
    "duration": 2,
    "start_time": "2024-01-04T16:23:23.251Z"
   },
   {
    "duration": 12,
    "start_time": "2024-01-04T16:23:23.265Z"
   },
   {
    "duration": 107,
    "start_time": "2024-01-04T16:23:23.278Z"
   },
   {
    "duration": 2,
    "start_time": "2024-01-04T16:23:23.387Z"
   },
   {
    "duration": 58,
    "start_time": "2024-01-04T16:23:23.391Z"
   },
   {
    "duration": 116,
    "start_time": "2024-01-04T16:23:23.452Z"
   },
   {
    "duration": 172,
    "start_time": "2024-01-04T16:31:24.707Z"
   }
  ],
  "celltoolbar": "Edit Metadata",
  "colab": {
   "name": "dpp_template_part2.ipynb",
   "provenance": []
  },
  "kernelspec": {
   "display_name": "Python 3 (ipykernel)",
   "language": "python",
   "name": "python3"
  },
  "language_info": {
   "codemirror_mode": {
    "name": "ipython",
    "version": 3
   },
   "file_extension": ".py",
   "mimetype": "text/x-python",
   "name": "python",
   "nbconvert_exporter": "python",
   "pygments_lexer": "ipython3",
   "version": "3.9.5"
  },
  "toc": {
   "base_numbering": 1,
   "nav_menu": {},
   "number_sections": true,
   "sideBar": true,
   "skip_h1_title": true,
   "title_cell": "Table of Contents",
   "title_sidebar": "Contents",
   "toc_cell": false,
   "toc_position": {},
   "toc_section_display": true,
   "toc_window_display": false
  }
 },
 "nbformat": 4,
 "nbformat_minor": 5
}
